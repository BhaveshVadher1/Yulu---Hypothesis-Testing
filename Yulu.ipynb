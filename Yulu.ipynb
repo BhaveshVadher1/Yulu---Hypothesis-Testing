{
  "nbformat": 4,
  "nbformat_minor": 0,
  "metadata": {
    "colab": {
      "provenance": [],
      "toc_visible": true,
      "authorship_tag": "ABX9TyMX2VIPg2az4x2CTe9CU+dv",
      "include_colab_link": true
    },
    "kernelspec": {
      "name": "python3",
      "display_name": "Python 3"
    },
    "language_info": {
      "name": "python"
    }
  },
  "cells": [
    {
      "cell_type": "markdown",
      "metadata": {
        "id": "view-in-github",
        "colab_type": "text"
      },
      "source": [
        "<a href=\"https://colab.research.google.com/github/BhaveshVadher1/Yulu---Hypothesis-Testing/blob/main/Yulu.ipynb\" target=\"_parent\"><img src=\"https://colab.research.google.com/assets/colab-badge.svg\" alt=\"Open In Colab\"/></a>"
      ]
    },
    {
      "cell_type": "code",
      "execution_count": null,
      "metadata": {
        "id": "24OCgMuBrLuM"
      },
      "outputs": [],
      "source": [
        "from google.colab import drive"
      ]
    },
    {
      "cell_type": "code",
      "source": [
        "drive.mount('/content/drive')"
      ],
      "metadata": {
        "colab": {
          "base_uri": "https://localhost:8080/"
        },
        "id": "5MY5D3TnrbxX",
        "outputId": "d63a05b2-4940-4cbc-d926-f21b429c52ce"
      },
      "execution_count": null,
      "outputs": [
        {
          "output_type": "stream",
          "name": "stdout",
          "text": [
            "Mounted at /content/drive\n"
          ]
        }
      ]
    },
    {
      "cell_type": "code",
      "source": [
        "import pandas as pd\n",
        "import numpy as np\n",
        "import seaborn as sns\n",
        "import copy\n",
        "from matplotlib import pyplot as plt\n",
        "df=pd.read_csv('/content/drive/MyDrive/Yulu1.csv')"
      ],
      "metadata": {
        "id": "K2meOCa4roAv"
      },
      "execution_count": null,
      "outputs": []
    },
    {
      "cell_type": "markdown",
      "source": [
        "**YULU**\n",
        "\n",
        "About Yulu\n",
        "\n",
        "Yulu is India’s leading micro-mobility service provider, which offers unique vehicles for the daily commute. Starting off as a mission to eliminate traffic congestion in India.\n",
        "\n",
        "Problem Statement\n",
        "\n",
        "Yulu has recently suffered considerable dips in its revenues. They have contracted a consulting company to understand the factors on which the\n",
        "demand for these shared electric cycles depends. Specifically, they want to understand the factors affecting the demand for these shared electric cycles in the Indian market.\n",
        "\n",
        "The company wants to know:\n",
        "\n",
        "- Which variables are significant in predicting the demand for shared electric cycles in the Indian market?\n",
        "\n",
        "- How well those variables describe the electric cycle demands"
      ],
      "metadata": {
        "id": "oIAiRfl-b1Np"
      }
    },
    {
      "cell_type": "markdown",
      "source": [
        "#Exploratory Data Analysis"
      ],
      "metadata": {
        "id": "hSY6xMlIqoUp"
      }
    },
    {
      "cell_type": "markdown",
      "source": [
        "##About given Data"
      ],
      "metadata": {
        "id": "604vuzGIteSN"
      }
    },
    {
      "cell_type": "code",
      "source": [
        "df.head()"
      ],
      "metadata": {
        "colab": {
          "base_uri": "https://localhost:8080/",
          "height": 206
        },
        "id": "r0RxlczTryWk",
        "outputId": "49d64c1a-ae14-46f4-96a2-7b25559ef39d"
      },
      "execution_count": null,
      "outputs": [
        {
          "output_type": "execute_result",
          "data": {
            "text/plain": [
              "              datetime  season  holiday  workingday  weather  temp   atemp  \\\n",
              "0  2011-01-01 00:00:00       1        0           0        1  9.84  14.395   \n",
              "1  2011-01-01 01:00:00       1        0           0        1  9.02  13.635   \n",
              "2  2011-01-01 02:00:00       1        0           0        1  9.02  13.635   \n",
              "3  2011-01-01 03:00:00       1        0           0        1  9.84  14.395   \n",
              "4  2011-01-01 04:00:00       1        0           0        1  9.84  14.395   \n",
              "\n",
              "   humidity  windspeed  casual  registered  count  \n",
              "0        81        0.0       3          13     16  \n",
              "1        80        0.0       8          32     40  \n",
              "2        80        0.0       5          27     32  \n",
              "3        75        0.0       3          10     13  \n",
              "4        75        0.0       0           1      1  "
            ],
            "text/html": [
              "\n",
              "  <div id=\"df-4c23735d-dc89-4727-a701-5ad83f46394c\" class=\"colab-df-container\">\n",
              "    <div>\n",
              "<style scoped>\n",
              "    .dataframe tbody tr th:only-of-type {\n",
              "        vertical-align: middle;\n",
              "    }\n",
              "\n",
              "    .dataframe tbody tr th {\n",
              "        vertical-align: top;\n",
              "    }\n",
              "\n",
              "    .dataframe thead th {\n",
              "        text-align: right;\n",
              "    }\n",
              "</style>\n",
              "<table border=\"1\" class=\"dataframe\">\n",
              "  <thead>\n",
              "    <tr style=\"text-align: right;\">\n",
              "      <th></th>\n",
              "      <th>datetime</th>\n",
              "      <th>season</th>\n",
              "      <th>holiday</th>\n",
              "      <th>workingday</th>\n",
              "      <th>weather</th>\n",
              "      <th>temp</th>\n",
              "      <th>atemp</th>\n",
              "      <th>humidity</th>\n",
              "      <th>windspeed</th>\n",
              "      <th>casual</th>\n",
              "      <th>registered</th>\n",
              "      <th>count</th>\n",
              "    </tr>\n",
              "  </thead>\n",
              "  <tbody>\n",
              "    <tr>\n",
              "      <th>0</th>\n",
              "      <td>2011-01-01 00:00:00</td>\n",
              "      <td>1</td>\n",
              "      <td>0</td>\n",
              "      <td>0</td>\n",
              "      <td>1</td>\n",
              "      <td>9.84</td>\n",
              "      <td>14.395</td>\n",
              "      <td>81</td>\n",
              "      <td>0.0</td>\n",
              "      <td>3</td>\n",
              "      <td>13</td>\n",
              "      <td>16</td>\n",
              "    </tr>\n",
              "    <tr>\n",
              "      <th>1</th>\n",
              "      <td>2011-01-01 01:00:00</td>\n",
              "      <td>1</td>\n",
              "      <td>0</td>\n",
              "      <td>0</td>\n",
              "      <td>1</td>\n",
              "      <td>9.02</td>\n",
              "      <td>13.635</td>\n",
              "      <td>80</td>\n",
              "      <td>0.0</td>\n",
              "      <td>8</td>\n",
              "      <td>32</td>\n",
              "      <td>40</td>\n",
              "    </tr>\n",
              "    <tr>\n",
              "      <th>2</th>\n",
              "      <td>2011-01-01 02:00:00</td>\n",
              "      <td>1</td>\n",
              "      <td>0</td>\n",
              "      <td>0</td>\n",
              "      <td>1</td>\n",
              "      <td>9.02</td>\n",
              "      <td>13.635</td>\n",
              "      <td>80</td>\n",
              "      <td>0.0</td>\n",
              "      <td>5</td>\n",
              "      <td>27</td>\n",
              "      <td>32</td>\n",
              "    </tr>\n",
              "    <tr>\n",
              "      <th>3</th>\n",
              "      <td>2011-01-01 03:00:00</td>\n",
              "      <td>1</td>\n",
              "      <td>0</td>\n",
              "      <td>0</td>\n",
              "      <td>1</td>\n",
              "      <td>9.84</td>\n",
              "      <td>14.395</td>\n",
              "      <td>75</td>\n",
              "      <td>0.0</td>\n",
              "      <td>3</td>\n",
              "      <td>10</td>\n",
              "      <td>13</td>\n",
              "    </tr>\n",
              "    <tr>\n",
              "      <th>4</th>\n",
              "      <td>2011-01-01 04:00:00</td>\n",
              "      <td>1</td>\n",
              "      <td>0</td>\n",
              "      <td>0</td>\n",
              "      <td>1</td>\n",
              "      <td>9.84</td>\n",
              "      <td>14.395</td>\n",
              "      <td>75</td>\n",
              "      <td>0.0</td>\n",
              "      <td>0</td>\n",
              "      <td>1</td>\n",
              "      <td>1</td>\n",
              "    </tr>\n",
              "  </tbody>\n",
              "</table>\n",
              "</div>\n",
              "    <div class=\"colab-df-buttons\">\n",
              "\n",
              "  <div class=\"colab-df-container\">\n",
              "    <button class=\"colab-df-convert\" onclick=\"convertToInteractive('df-4c23735d-dc89-4727-a701-5ad83f46394c')\"\n",
              "            title=\"Convert this dataframe to an interactive table.\"\n",
              "            style=\"display:none;\">\n",
              "\n",
              "  <svg xmlns=\"http://www.w3.org/2000/svg\" height=\"24px\" viewBox=\"0 -960 960 960\">\n",
              "    <path d=\"M120-120v-720h720v720H120Zm60-500h600v-160H180v160Zm220 220h160v-160H400v160Zm0 220h160v-160H400v160ZM180-400h160v-160H180v160Zm440 0h160v-160H620v160ZM180-180h160v-160H180v160Zm440 0h160v-160H620v160Z\"/>\n",
              "  </svg>\n",
              "    </button>\n",
              "\n",
              "  <style>\n",
              "    .colab-df-container {\n",
              "      display:flex;\n",
              "      gap: 12px;\n",
              "    }\n",
              "\n",
              "    .colab-df-convert {\n",
              "      background-color: #E8F0FE;\n",
              "      border: none;\n",
              "      border-radius: 50%;\n",
              "      cursor: pointer;\n",
              "      display: none;\n",
              "      fill: #1967D2;\n",
              "      height: 32px;\n",
              "      padding: 0 0 0 0;\n",
              "      width: 32px;\n",
              "    }\n",
              "\n",
              "    .colab-df-convert:hover {\n",
              "      background-color: #E2EBFA;\n",
              "      box-shadow: 0px 1px 2px rgba(60, 64, 67, 0.3), 0px 1px 3px 1px rgba(60, 64, 67, 0.15);\n",
              "      fill: #174EA6;\n",
              "    }\n",
              "\n",
              "    .colab-df-buttons div {\n",
              "      margin-bottom: 4px;\n",
              "    }\n",
              "\n",
              "    [theme=dark] .colab-df-convert {\n",
              "      background-color: #3B4455;\n",
              "      fill: #D2E3FC;\n",
              "    }\n",
              "\n",
              "    [theme=dark] .colab-df-convert:hover {\n",
              "      background-color: #434B5C;\n",
              "      box-shadow: 0px 1px 3px 1px rgba(0, 0, 0, 0.15);\n",
              "      filter: drop-shadow(0px 1px 2px rgba(0, 0, 0, 0.3));\n",
              "      fill: #FFFFFF;\n",
              "    }\n",
              "  </style>\n",
              "\n",
              "    <script>\n",
              "      const buttonEl =\n",
              "        document.querySelector('#df-4c23735d-dc89-4727-a701-5ad83f46394c button.colab-df-convert');\n",
              "      buttonEl.style.display =\n",
              "        google.colab.kernel.accessAllowed ? 'block' : 'none';\n",
              "\n",
              "      async function convertToInteractive(key) {\n",
              "        const element = document.querySelector('#df-4c23735d-dc89-4727-a701-5ad83f46394c');\n",
              "        const dataTable =\n",
              "          await google.colab.kernel.invokeFunction('convertToInteractive',\n",
              "                                                    [key], {});\n",
              "        if (!dataTable) return;\n",
              "\n",
              "        const docLinkHtml = 'Like what you see? Visit the ' +\n",
              "          '<a target=\"_blank\" href=https://colab.research.google.com/notebooks/data_table.ipynb>data table notebook</a>'\n",
              "          + ' to learn more about interactive tables.';\n",
              "        element.innerHTML = '';\n",
              "        dataTable['output_type'] = 'display_data';\n",
              "        await google.colab.output.renderOutput(dataTable, element);\n",
              "        const docLink = document.createElement('div');\n",
              "        docLink.innerHTML = docLinkHtml;\n",
              "        element.appendChild(docLink);\n",
              "      }\n",
              "    </script>\n",
              "  </div>\n",
              "\n",
              "\n",
              "<div id=\"df-3a8301a2-34ef-4543-9363-507dceda96ed\">\n",
              "  <button class=\"colab-df-quickchart\" onclick=\"quickchart('df-3a8301a2-34ef-4543-9363-507dceda96ed')\"\n",
              "            title=\"Suggest charts.\"\n",
              "            style=\"display:none;\">\n",
              "\n",
              "<svg xmlns=\"http://www.w3.org/2000/svg\" height=\"24px\"viewBox=\"0 0 24 24\"\n",
              "     width=\"24px\">\n",
              "    <g>\n",
              "        <path d=\"M19 3H5c-1.1 0-2 .9-2 2v14c0 1.1.9 2 2 2h14c1.1 0 2-.9 2-2V5c0-1.1-.9-2-2-2zM9 17H7v-7h2v7zm4 0h-2V7h2v10zm4 0h-2v-4h2v4z\"/>\n",
              "    </g>\n",
              "</svg>\n",
              "  </button>\n",
              "\n",
              "<style>\n",
              "  .colab-df-quickchart {\n",
              "      --bg-color: #E8F0FE;\n",
              "      --fill-color: #1967D2;\n",
              "      --hover-bg-color: #E2EBFA;\n",
              "      --hover-fill-color: #174EA6;\n",
              "      --disabled-fill-color: #AAA;\n",
              "      --disabled-bg-color: #DDD;\n",
              "  }\n",
              "\n",
              "  [theme=dark] .colab-df-quickchart {\n",
              "      --bg-color: #3B4455;\n",
              "      --fill-color: #D2E3FC;\n",
              "      --hover-bg-color: #434B5C;\n",
              "      --hover-fill-color: #FFFFFF;\n",
              "      --disabled-bg-color: #3B4455;\n",
              "      --disabled-fill-color: #666;\n",
              "  }\n",
              "\n",
              "  .colab-df-quickchart {\n",
              "    background-color: var(--bg-color);\n",
              "    border: none;\n",
              "    border-radius: 50%;\n",
              "    cursor: pointer;\n",
              "    display: none;\n",
              "    fill: var(--fill-color);\n",
              "    height: 32px;\n",
              "    padding: 0;\n",
              "    width: 32px;\n",
              "  }\n",
              "\n",
              "  .colab-df-quickchart:hover {\n",
              "    background-color: var(--hover-bg-color);\n",
              "    box-shadow: 0 1px 2px rgba(60, 64, 67, 0.3), 0 1px 3px 1px rgba(60, 64, 67, 0.15);\n",
              "    fill: var(--button-hover-fill-color);\n",
              "  }\n",
              "\n",
              "  .colab-df-quickchart-complete:disabled,\n",
              "  .colab-df-quickchart-complete:disabled:hover {\n",
              "    background-color: var(--disabled-bg-color);\n",
              "    fill: var(--disabled-fill-color);\n",
              "    box-shadow: none;\n",
              "  }\n",
              "\n",
              "  .colab-df-spinner {\n",
              "    border: 2px solid var(--fill-color);\n",
              "    border-color: transparent;\n",
              "    border-bottom-color: var(--fill-color);\n",
              "    animation:\n",
              "      spin 1s steps(1) infinite;\n",
              "  }\n",
              "\n",
              "  @keyframes spin {\n",
              "    0% {\n",
              "      border-color: transparent;\n",
              "      border-bottom-color: var(--fill-color);\n",
              "      border-left-color: var(--fill-color);\n",
              "    }\n",
              "    20% {\n",
              "      border-color: transparent;\n",
              "      border-left-color: var(--fill-color);\n",
              "      border-top-color: var(--fill-color);\n",
              "    }\n",
              "    30% {\n",
              "      border-color: transparent;\n",
              "      border-left-color: var(--fill-color);\n",
              "      border-top-color: var(--fill-color);\n",
              "      border-right-color: var(--fill-color);\n",
              "    }\n",
              "    40% {\n",
              "      border-color: transparent;\n",
              "      border-right-color: var(--fill-color);\n",
              "      border-top-color: var(--fill-color);\n",
              "    }\n",
              "    60% {\n",
              "      border-color: transparent;\n",
              "      border-right-color: var(--fill-color);\n",
              "    }\n",
              "    80% {\n",
              "      border-color: transparent;\n",
              "      border-right-color: var(--fill-color);\n",
              "      border-bottom-color: var(--fill-color);\n",
              "    }\n",
              "    90% {\n",
              "      border-color: transparent;\n",
              "      border-bottom-color: var(--fill-color);\n",
              "    }\n",
              "  }\n",
              "</style>\n",
              "\n",
              "  <script>\n",
              "    async function quickchart(key) {\n",
              "      const quickchartButtonEl =\n",
              "        document.querySelector('#' + key + ' button');\n",
              "      quickchartButtonEl.disabled = true;  // To prevent multiple clicks.\n",
              "      quickchartButtonEl.classList.add('colab-df-spinner');\n",
              "      try {\n",
              "        const charts = await google.colab.kernel.invokeFunction(\n",
              "            'suggestCharts', [key], {});\n",
              "      } catch (error) {\n",
              "        console.error('Error during call to suggestCharts:', error);\n",
              "      }\n",
              "      quickchartButtonEl.classList.remove('colab-df-spinner');\n",
              "      quickchartButtonEl.classList.add('colab-df-quickchart-complete');\n",
              "    }\n",
              "    (() => {\n",
              "      let quickchartButtonEl =\n",
              "        document.querySelector('#df-3a8301a2-34ef-4543-9363-507dceda96ed button');\n",
              "      quickchartButtonEl.style.display =\n",
              "        google.colab.kernel.accessAllowed ? 'block' : 'none';\n",
              "    })();\n",
              "  </script>\n",
              "</div>\n",
              "    </div>\n",
              "  </div>\n"
            ]
          },
          "metadata": {},
          "execution_count": 4
        }
      ]
    },
    {
      "cell_type": "code",
      "source": [
        "df.shape"
      ],
      "metadata": {
        "colab": {
          "base_uri": "https://localhost:8080/"
        },
        "id": "Ma7K2KeAtMXj",
        "outputId": "cb350207-d043-48f2-80c9-c98af6814688"
      },
      "execution_count": null,
      "outputs": [
        {
          "output_type": "execute_result",
          "data": {
            "text/plain": [
              "(10886, 12)"
            ]
          },
          "metadata": {},
          "execution_count": 5
        }
      ]
    },
    {
      "cell_type": "code",
      "source": [
        "df.columns"
      ],
      "metadata": {
        "colab": {
          "base_uri": "https://localhost:8080/"
        },
        "id": "S5FTQ8mztWtC",
        "outputId": "a0d9d1ef-ab31-47a4-fe7c-da53e9b381f5"
      },
      "execution_count": null,
      "outputs": [
        {
          "output_type": "execute_result",
          "data": {
            "text/plain": [
              "Index(['datetime', 'season', 'holiday', 'workingday', 'weather', 'temp',\n",
              "       'atemp', 'humidity', 'windspeed', 'casual', 'registered', 'count'],\n",
              "      dtype='object')"
            ]
          },
          "metadata": {},
          "execution_count": 6
        }
      ]
    },
    {
      "cell_type": "code",
      "source": [
        "# Missing value detection\n",
        "missing_values = df.isnull().sum()\n",
        "print(\"\\nMissing Values:\")\n",
        "print(missing_values)"
      ],
      "metadata": {
        "colab": {
          "base_uri": "https://localhost:8080/"
        },
        "id": "bjjzxVHon5fJ",
        "outputId": "f846d0a6-ce8e-481b-8eed-75f02ff9d440"
      },
      "execution_count": null,
      "outputs": [
        {
          "output_type": "stream",
          "name": "stdout",
          "text": [
            "\n",
            "Missing Values:\n",
            "datetime      0\n",
            "season        0\n",
            "holiday       0\n",
            "workingday    0\n",
            "weather       0\n",
            "temp          0\n",
            "atemp         0\n",
            "humidity      0\n",
            "windspeed     0\n",
            "casual        0\n",
            "registered    0\n",
            "count         0\n",
            "dtype: int64\n"
          ]
        }
      ]
    },
    {
      "cell_type": "code",
      "source": [
        "# Number of unique values in each column\n",
        "for i in df.columns:\n",
        "  print(i, ':', df[i].nunique())"
      ],
      "metadata": {
        "colab": {
          "base_uri": "https://localhost:8080/"
        },
        "id": "Lpkmyn1mulV4",
        "outputId": "75c9f086-f3cf-492f-f470-3e316ebddbce"
      },
      "execution_count": null,
      "outputs": [
        {
          "output_type": "stream",
          "name": "stdout",
          "text": [
            "datetime : 10886\n",
            "season : 4\n",
            "holiday : 2\n",
            "workingday : 2\n",
            "weather : 4\n",
            "temp : 49\n",
            "atemp : 60\n",
            "humidity : 89\n",
            "windspeed : 28\n",
            "casual : 309\n",
            "registered : 731\n",
            "count : 822\n"
          ]
        }
      ]
    },
    {
      "cell_type": "code",
      "source": [
        "#Statistical summary of the dataset\n",
        "print(\"\\nStatistical Summary:\")\n",
        "print(df.describe())"
      ],
      "metadata": {
        "colab": {
          "base_uri": "https://localhost:8080/"
        },
        "id": "4LfueeIEoCr1",
        "outputId": "382bea08-874b-4874-8346-1842af843bfd"
      },
      "execution_count": null,
      "outputs": [
        {
          "output_type": "stream",
          "name": "stdout",
          "text": [
            "\n",
            "Statistical Summary:\n",
            "             season       holiday    workingday       weather         temp  \\\n",
            "count  10886.000000  10886.000000  10886.000000  10886.000000  10886.00000   \n",
            "mean       2.506614      0.028569      0.680875      1.418427     20.23086   \n",
            "std        1.116174      0.166599      0.466159      0.633839      7.79159   \n",
            "min        1.000000      0.000000      0.000000      1.000000      0.82000   \n",
            "25%        2.000000      0.000000      0.000000      1.000000     13.94000   \n",
            "50%        3.000000      0.000000      1.000000      1.000000     20.50000   \n",
            "75%        4.000000      0.000000      1.000000      2.000000     26.24000   \n",
            "max        4.000000      1.000000      1.000000      4.000000     41.00000   \n",
            "\n",
            "              atemp      humidity     windspeed        casual    registered  \\\n",
            "count  10886.000000  10886.000000  10886.000000  10886.000000  10886.000000   \n",
            "mean      23.655084     61.886460     12.799395     36.021955    155.552177   \n",
            "std        8.474601     19.245033      8.164537     49.960477    151.039033   \n",
            "min        0.760000      0.000000      0.000000      0.000000      0.000000   \n",
            "25%       16.665000     47.000000      7.001500      4.000000     36.000000   \n",
            "50%       24.240000     62.000000     12.998000     17.000000    118.000000   \n",
            "75%       31.060000     77.000000     16.997900     49.000000    222.000000   \n",
            "max       45.455000    100.000000     56.996900    367.000000    886.000000   \n",
            "\n",
            "              count  \n",
            "count  10886.000000  \n",
            "mean     191.574132  \n",
            "std      181.144454  \n",
            "min        1.000000  \n",
            "25%       42.000000  \n",
            "50%      145.000000  \n",
            "75%      284.000000  \n",
            "max      977.000000  \n"
          ]
        }
      ]
    },
    {
      "cell_type": "markdown",
      "source": [
        "###Data type analysis and conversion"
      ],
      "metadata": {
        "id": "DDOCROOUt9c4"
      }
    },
    {
      "cell_type": "code",
      "source": [
        "df.dtypes"
      ],
      "metadata": {
        "colab": {
          "base_uri": "https://localhost:8080/"
        },
        "id": "ayKC_sWcuC9O",
        "outputId": "d4ff0a84-8807-4072-e799-6df65f6187d7"
      },
      "execution_count": null,
      "outputs": [
        {
          "output_type": "execute_result",
          "data": {
            "text/plain": [
              "datetime       object\n",
              "season          int64\n",
              "holiday         int64\n",
              "workingday      int64\n",
              "weather         int64\n",
              "temp          float64\n",
              "atemp         float64\n",
              "humidity        int64\n",
              "windspeed     float64\n",
              "casual          int64\n",
              "registered      int64\n",
              "count           int64\n",
              "dtype: object"
            ]
          },
          "metadata": {},
          "execution_count": 10
        }
      ]
    },
    {
      "cell_type": "code",
      "source": [
        "# converting datetime from object to datetime\n",
        "df['datetime'] = pd.to_datetime(df['datetime'])"
      ],
      "metadata": {
        "id": "YDPIfR2vuLfG"
      },
      "execution_count": null,
      "outputs": []
    },
    {
      "cell_type": "code",
      "source": [
        "df['datetime'] = pd.to_datetime(df['datetime'])\n",
        "\n",
        "cat_cols= ['season', 'holiday', 'workingday', 'weather']\n",
        "for col in cat_cols:\n",
        "    df[col] = df[col].astype('object')"
      ],
      "metadata": {
        "id": "-FgsU3yUES-s"
      },
      "execution_count": null,
      "outputs": []
    },
    {
      "cell_type": "code",
      "source": [
        "df.dtypes"
      ],
      "metadata": {
        "colab": {
          "base_uri": "https://localhost:8080/"
        },
        "id": "h4XssFwDEpHf",
        "outputId": "ed64a607-350a-4383-d361-5d0a294b8a8c"
      },
      "execution_count": null,
      "outputs": [
        {
          "output_type": "execute_result",
          "data": {
            "text/plain": [
              "datetime      datetime64[ns]\n",
              "season                object\n",
              "holiday               object\n",
              "workingday            object\n",
              "weather               object\n",
              "temp                 float64\n",
              "atemp                float64\n",
              "humidity               int64\n",
              "windspeed            float64\n",
              "casual                 int64\n",
              "registered             int64\n",
              "count                  int64\n",
              "dtype: object"
            ]
          },
          "metadata": {},
          "execution_count": 13
        }
      ]
    },
    {
      "cell_type": "code",
      "source": [
        "df.iloc[:, 1:].describe(include='all')"
      ],
      "metadata": {
        "colab": {
          "base_uri": "https://localhost:8080/",
          "height": 394
        },
        "id": "EQ6DhAO1E0Bt",
        "outputId": "f4645912-5a94-462a-9281-731485edb72c"
      },
      "execution_count": null,
      "outputs": [
        {
          "output_type": "execute_result",
          "data": {
            "text/plain": [
              "         season  holiday  workingday  weather         temp         atemp  \\\n",
              "count   10886.0  10886.0     10886.0  10886.0  10886.00000  10886.000000   \n",
              "unique      4.0      2.0         2.0      4.0          NaN           NaN   \n",
              "top         4.0      0.0         1.0      1.0          NaN           NaN   \n",
              "freq     2734.0  10575.0      7412.0   7192.0          NaN           NaN   \n",
              "mean        NaN      NaN         NaN      NaN     20.23086     23.655084   \n",
              "std         NaN      NaN         NaN      NaN      7.79159      8.474601   \n",
              "min         NaN      NaN         NaN      NaN      0.82000      0.760000   \n",
              "25%         NaN      NaN         NaN      NaN     13.94000     16.665000   \n",
              "50%         NaN      NaN         NaN      NaN     20.50000     24.240000   \n",
              "75%         NaN      NaN         NaN      NaN     26.24000     31.060000   \n",
              "max         NaN      NaN         NaN      NaN     41.00000     45.455000   \n",
              "\n",
              "            humidity     windspeed        casual    registered         count  \n",
              "count   10886.000000  10886.000000  10886.000000  10886.000000  10886.000000  \n",
              "unique           NaN           NaN           NaN           NaN           NaN  \n",
              "top              NaN           NaN           NaN           NaN           NaN  \n",
              "freq             NaN           NaN           NaN           NaN           NaN  \n",
              "mean       61.886460     12.799395     36.021955    155.552177    191.574132  \n",
              "std        19.245033      8.164537     49.960477    151.039033    181.144454  \n",
              "min         0.000000      0.000000      0.000000      0.000000      1.000000  \n",
              "25%        47.000000      7.001500      4.000000     36.000000     42.000000  \n",
              "50%        62.000000     12.998000     17.000000    118.000000    145.000000  \n",
              "75%        77.000000     16.997900     49.000000    222.000000    284.000000  \n",
              "max       100.000000     56.996900    367.000000    886.000000    977.000000  "
            ],
            "text/html": [
              "\n",
              "  <div id=\"df-ce034d05-a543-4db5-ba6b-83c3d54a2e63\" class=\"colab-df-container\">\n",
              "    <div>\n",
              "<style scoped>\n",
              "    .dataframe tbody tr th:only-of-type {\n",
              "        vertical-align: middle;\n",
              "    }\n",
              "\n",
              "    .dataframe tbody tr th {\n",
              "        vertical-align: top;\n",
              "    }\n",
              "\n",
              "    .dataframe thead th {\n",
              "        text-align: right;\n",
              "    }\n",
              "</style>\n",
              "<table border=\"1\" class=\"dataframe\">\n",
              "  <thead>\n",
              "    <tr style=\"text-align: right;\">\n",
              "      <th></th>\n",
              "      <th>season</th>\n",
              "      <th>holiday</th>\n",
              "      <th>workingday</th>\n",
              "      <th>weather</th>\n",
              "      <th>temp</th>\n",
              "      <th>atemp</th>\n",
              "      <th>humidity</th>\n",
              "      <th>windspeed</th>\n",
              "      <th>casual</th>\n",
              "      <th>registered</th>\n",
              "      <th>count</th>\n",
              "    </tr>\n",
              "  </thead>\n",
              "  <tbody>\n",
              "    <tr>\n",
              "      <th>count</th>\n",
              "      <td>10886.0</td>\n",
              "      <td>10886.0</td>\n",
              "      <td>10886.0</td>\n",
              "      <td>10886.0</td>\n",
              "      <td>10886.00000</td>\n",
              "      <td>10886.000000</td>\n",
              "      <td>10886.000000</td>\n",
              "      <td>10886.000000</td>\n",
              "      <td>10886.000000</td>\n",
              "      <td>10886.000000</td>\n",
              "      <td>10886.000000</td>\n",
              "    </tr>\n",
              "    <tr>\n",
              "      <th>unique</th>\n",
              "      <td>4.0</td>\n",
              "      <td>2.0</td>\n",
              "      <td>2.0</td>\n",
              "      <td>4.0</td>\n",
              "      <td>NaN</td>\n",
              "      <td>NaN</td>\n",
              "      <td>NaN</td>\n",
              "      <td>NaN</td>\n",
              "      <td>NaN</td>\n",
              "      <td>NaN</td>\n",
              "      <td>NaN</td>\n",
              "    </tr>\n",
              "    <tr>\n",
              "      <th>top</th>\n",
              "      <td>4.0</td>\n",
              "      <td>0.0</td>\n",
              "      <td>1.0</td>\n",
              "      <td>1.0</td>\n",
              "      <td>NaN</td>\n",
              "      <td>NaN</td>\n",
              "      <td>NaN</td>\n",
              "      <td>NaN</td>\n",
              "      <td>NaN</td>\n",
              "      <td>NaN</td>\n",
              "      <td>NaN</td>\n",
              "    </tr>\n",
              "    <tr>\n",
              "      <th>freq</th>\n",
              "      <td>2734.0</td>\n",
              "      <td>10575.0</td>\n",
              "      <td>7412.0</td>\n",
              "      <td>7192.0</td>\n",
              "      <td>NaN</td>\n",
              "      <td>NaN</td>\n",
              "      <td>NaN</td>\n",
              "      <td>NaN</td>\n",
              "      <td>NaN</td>\n",
              "      <td>NaN</td>\n",
              "      <td>NaN</td>\n",
              "    </tr>\n",
              "    <tr>\n",
              "      <th>mean</th>\n",
              "      <td>NaN</td>\n",
              "      <td>NaN</td>\n",
              "      <td>NaN</td>\n",
              "      <td>NaN</td>\n",
              "      <td>20.23086</td>\n",
              "      <td>23.655084</td>\n",
              "      <td>61.886460</td>\n",
              "      <td>12.799395</td>\n",
              "      <td>36.021955</td>\n",
              "      <td>155.552177</td>\n",
              "      <td>191.574132</td>\n",
              "    </tr>\n",
              "    <tr>\n",
              "      <th>std</th>\n",
              "      <td>NaN</td>\n",
              "      <td>NaN</td>\n",
              "      <td>NaN</td>\n",
              "      <td>NaN</td>\n",
              "      <td>7.79159</td>\n",
              "      <td>8.474601</td>\n",
              "      <td>19.245033</td>\n",
              "      <td>8.164537</td>\n",
              "      <td>49.960477</td>\n",
              "      <td>151.039033</td>\n",
              "      <td>181.144454</td>\n",
              "    </tr>\n",
              "    <tr>\n",
              "      <th>min</th>\n",
              "      <td>NaN</td>\n",
              "      <td>NaN</td>\n",
              "      <td>NaN</td>\n",
              "      <td>NaN</td>\n",
              "      <td>0.82000</td>\n",
              "      <td>0.760000</td>\n",
              "      <td>0.000000</td>\n",
              "      <td>0.000000</td>\n",
              "      <td>0.000000</td>\n",
              "      <td>0.000000</td>\n",
              "      <td>1.000000</td>\n",
              "    </tr>\n",
              "    <tr>\n",
              "      <th>25%</th>\n",
              "      <td>NaN</td>\n",
              "      <td>NaN</td>\n",
              "      <td>NaN</td>\n",
              "      <td>NaN</td>\n",
              "      <td>13.94000</td>\n",
              "      <td>16.665000</td>\n",
              "      <td>47.000000</td>\n",
              "      <td>7.001500</td>\n",
              "      <td>4.000000</td>\n",
              "      <td>36.000000</td>\n",
              "      <td>42.000000</td>\n",
              "    </tr>\n",
              "    <tr>\n",
              "      <th>50%</th>\n",
              "      <td>NaN</td>\n",
              "      <td>NaN</td>\n",
              "      <td>NaN</td>\n",
              "      <td>NaN</td>\n",
              "      <td>20.50000</td>\n",
              "      <td>24.240000</td>\n",
              "      <td>62.000000</td>\n",
              "      <td>12.998000</td>\n",
              "      <td>17.000000</td>\n",
              "      <td>118.000000</td>\n",
              "      <td>145.000000</td>\n",
              "    </tr>\n",
              "    <tr>\n",
              "      <th>75%</th>\n",
              "      <td>NaN</td>\n",
              "      <td>NaN</td>\n",
              "      <td>NaN</td>\n",
              "      <td>NaN</td>\n",
              "      <td>26.24000</td>\n",
              "      <td>31.060000</td>\n",
              "      <td>77.000000</td>\n",
              "      <td>16.997900</td>\n",
              "      <td>49.000000</td>\n",
              "      <td>222.000000</td>\n",
              "      <td>284.000000</td>\n",
              "    </tr>\n",
              "    <tr>\n",
              "      <th>max</th>\n",
              "      <td>NaN</td>\n",
              "      <td>NaN</td>\n",
              "      <td>NaN</td>\n",
              "      <td>NaN</td>\n",
              "      <td>41.00000</td>\n",
              "      <td>45.455000</td>\n",
              "      <td>100.000000</td>\n",
              "      <td>56.996900</td>\n",
              "      <td>367.000000</td>\n",
              "      <td>886.000000</td>\n",
              "      <td>977.000000</td>\n",
              "    </tr>\n",
              "  </tbody>\n",
              "</table>\n",
              "</div>\n",
              "    <div class=\"colab-df-buttons\">\n",
              "\n",
              "  <div class=\"colab-df-container\">\n",
              "    <button class=\"colab-df-convert\" onclick=\"convertToInteractive('df-ce034d05-a543-4db5-ba6b-83c3d54a2e63')\"\n",
              "            title=\"Convert this dataframe to an interactive table.\"\n",
              "            style=\"display:none;\">\n",
              "\n",
              "  <svg xmlns=\"http://www.w3.org/2000/svg\" height=\"24px\" viewBox=\"0 -960 960 960\">\n",
              "    <path d=\"M120-120v-720h720v720H120Zm60-500h600v-160H180v160Zm220 220h160v-160H400v160Zm0 220h160v-160H400v160ZM180-400h160v-160H180v160Zm440 0h160v-160H620v160ZM180-180h160v-160H180v160Zm440 0h160v-160H620v160Z\"/>\n",
              "  </svg>\n",
              "    </button>\n",
              "\n",
              "  <style>\n",
              "    .colab-df-container {\n",
              "      display:flex;\n",
              "      gap: 12px;\n",
              "    }\n",
              "\n",
              "    .colab-df-convert {\n",
              "      background-color: #E8F0FE;\n",
              "      border: none;\n",
              "      border-radius: 50%;\n",
              "      cursor: pointer;\n",
              "      display: none;\n",
              "      fill: #1967D2;\n",
              "      height: 32px;\n",
              "      padding: 0 0 0 0;\n",
              "      width: 32px;\n",
              "    }\n",
              "\n",
              "    .colab-df-convert:hover {\n",
              "      background-color: #E2EBFA;\n",
              "      box-shadow: 0px 1px 2px rgba(60, 64, 67, 0.3), 0px 1px 3px 1px rgba(60, 64, 67, 0.15);\n",
              "      fill: #174EA6;\n",
              "    }\n",
              "\n",
              "    .colab-df-buttons div {\n",
              "      margin-bottom: 4px;\n",
              "    }\n",
              "\n",
              "    [theme=dark] .colab-df-convert {\n",
              "      background-color: #3B4455;\n",
              "      fill: #D2E3FC;\n",
              "    }\n",
              "\n",
              "    [theme=dark] .colab-df-convert:hover {\n",
              "      background-color: #434B5C;\n",
              "      box-shadow: 0px 1px 3px 1px rgba(0, 0, 0, 0.15);\n",
              "      filter: drop-shadow(0px 1px 2px rgba(0, 0, 0, 0.3));\n",
              "      fill: #FFFFFF;\n",
              "    }\n",
              "  </style>\n",
              "\n",
              "    <script>\n",
              "      const buttonEl =\n",
              "        document.querySelector('#df-ce034d05-a543-4db5-ba6b-83c3d54a2e63 button.colab-df-convert');\n",
              "      buttonEl.style.display =\n",
              "        google.colab.kernel.accessAllowed ? 'block' : 'none';\n",
              "\n",
              "      async function convertToInteractive(key) {\n",
              "        const element = document.querySelector('#df-ce034d05-a543-4db5-ba6b-83c3d54a2e63');\n",
              "        const dataTable =\n",
              "          await google.colab.kernel.invokeFunction('convertToInteractive',\n",
              "                                                    [key], {});\n",
              "        if (!dataTable) return;\n",
              "\n",
              "        const docLinkHtml = 'Like what you see? Visit the ' +\n",
              "          '<a target=\"_blank\" href=https://colab.research.google.com/notebooks/data_table.ipynb>data table notebook</a>'\n",
              "          + ' to learn more about interactive tables.';\n",
              "        element.innerHTML = '';\n",
              "        dataTable['output_type'] = 'display_data';\n",
              "        await google.colab.output.renderOutput(dataTable, element);\n",
              "        const docLink = document.createElement('div');\n",
              "        docLink.innerHTML = docLinkHtml;\n",
              "        element.appendChild(docLink);\n",
              "      }\n",
              "    </script>\n",
              "  </div>\n",
              "\n",
              "\n",
              "<div id=\"df-aaa96d1c-5c96-41bb-9023-c2b3e3a0e31a\">\n",
              "  <button class=\"colab-df-quickchart\" onclick=\"quickchart('df-aaa96d1c-5c96-41bb-9023-c2b3e3a0e31a')\"\n",
              "            title=\"Suggest charts.\"\n",
              "            style=\"display:none;\">\n",
              "\n",
              "<svg xmlns=\"http://www.w3.org/2000/svg\" height=\"24px\"viewBox=\"0 0 24 24\"\n",
              "     width=\"24px\">\n",
              "    <g>\n",
              "        <path d=\"M19 3H5c-1.1 0-2 .9-2 2v14c0 1.1.9 2 2 2h14c1.1 0 2-.9 2-2V5c0-1.1-.9-2-2-2zM9 17H7v-7h2v7zm4 0h-2V7h2v10zm4 0h-2v-4h2v4z\"/>\n",
              "    </g>\n",
              "</svg>\n",
              "  </button>\n",
              "\n",
              "<style>\n",
              "  .colab-df-quickchart {\n",
              "      --bg-color: #E8F0FE;\n",
              "      --fill-color: #1967D2;\n",
              "      --hover-bg-color: #E2EBFA;\n",
              "      --hover-fill-color: #174EA6;\n",
              "      --disabled-fill-color: #AAA;\n",
              "      --disabled-bg-color: #DDD;\n",
              "  }\n",
              "\n",
              "  [theme=dark] .colab-df-quickchart {\n",
              "      --bg-color: #3B4455;\n",
              "      --fill-color: #D2E3FC;\n",
              "      --hover-bg-color: #434B5C;\n",
              "      --hover-fill-color: #FFFFFF;\n",
              "      --disabled-bg-color: #3B4455;\n",
              "      --disabled-fill-color: #666;\n",
              "  }\n",
              "\n",
              "  .colab-df-quickchart {\n",
              "    background-color: var(--bg-color);\n",
              "    border: none;\n",
              "    border-radius: 50%;\n",
              "    cursor: pointer;\n",
              "    display: none;\n",
              "    fill: var(--fill-color);\n",
              "    height: 32px;\n",
              "    padding: 0;\n",
              "    width: 32px;\n",
              "  }\n",
              "\n",
              "  .colab-df-quickchart:hover {\n",
              "    background-color: var(--hover-bg-color);\n",
              "    box-shadow: 0 1px 2px rgba(60, 64, 67, 0.3), 0 1px 3px 1px rgba(60, 64, 67, 0.15);\n",
              "    fill: var(--button-hover-fill-color);\n",
              "  }\n",
              "\n",
              "  .colab-df-quickchart-complete:disabled,\n",
              "  .colab-df-quickchart-complete:disabled:hover {\n",
              "    background-color: var(--disabled-bg-color);\n",
              "    fill: var(--disabled-fill-color);\n",
              "    box-shadow: none;\n",
              "  }\n",
              "\n",
              "  .colab-df-spinner {\n",
              "    border: 2px solid var(--fill-color);\n",
              "    border-color: transparent;\n",
              "    border-bottom-color: var(--fill-color);\n",
              "    animation:\n",
              "      spin 1s steps(1) infinite;\n",
              "  }\n",
              "\n",
              "  @keyframes spin {\n",
              "    0% {\n",
              "      border-color: transparent;\n",
              "      border-bottom-color: var(--fill-color);\n",
              "      border-left-color: var(--fill-color);\n",
              "    }\n",
              "    20% {\n",
              "      border-color: transparent;\n",
              "      border-left-color: var(--fill-color);\n",
              "      border-top-color: var(--fill-color);\n",
              "    }\n",
              "    30% {\n",
              "      border-color: transparent;\n",
              "      border-left-color: var(--fill-color);\n",
              "      border-top-color: var(--fill-color);\n",
              "      border-right-color: var(--fill-color);\n",
              "    }\n",
              "    40% {\n",
              "      border-color: transparent;\n",
              "      border-right-color: var(--fill-color);\n",
              "      border-top-color: var(--fill-color);\n",
              "    }\n",
              "    60% {\n",
              "      border-color: transparent;\n",
              "      border-right-color: var(--fill-color);\n",
              "    }\n",
              "    80% {\n",
              "      border-color: transparent;\n",
              "      border-right-color: var(--fill-color);\n",
              "      border-bottom-color: var(--fill-color);\n",
              "    }\n",
              "    90% {\n",
              "      border-color: transparent;\n",
              "      border-bottom-color: var(--fill-color);\n",
              "    }\n",
              "  }\n",
              "</style>\n",
              "\n",
              "  <script>\n",
              "    async function quickchart(key) {\n",
              "      const quickchartButtonEl =\n",
              "        document.querySelector('#' + key + ' button');\n",
              "      quickchartButtonEl.disabled = true;  // To prevent multiple clicks.\n",
              "      quickchartButtonEl.classList.add('colab-df-spinner');\n",
              "      try {\n",
              "        const charts = await google.colab.kernel.invokeFunction(\n",
              "            'suggestCharts', [key], {});\n",
              "      } catch (error) {\n",
              "        console.error('Error during call to suggestCharts:', error);\n",
              "      }\n",
              "      quickchartButtonEl.classList.remove('colab-df-spinner');\n",
              "      quickchartButtonEl.classList.add('colab-df-quickchart-complete');\n",
              "    }\n",
              "    (() => {\n",
              "      let quickchartButtonEl =\n",
              "        document.querySelector('#df-aaa96d1c-5c96-41bb-9023-c2b3e3a0e31a button');\n",
              "      quickchartButtonEl.style.display =\n",
              "        google.colab.kernel.accessAllowed ? 'block' : 'none';\n",
              "    })();\n",
              "  </script>\n",
              "</div>\n",
              "    </div>\n",
              "  </div>\n"
            ]
          },
          "metadata": {},
          "execution_count": 14
        }
      ]
    },
    {
      "cell_type": "markdown",
      "source": [
        "###Analysing Independent Numerical Features by Statistical summary"
      ],
      "metadata": {
        "id": "T7zr9n46GPQK"
      }
    },
    {
      "cell_type": "code",
      "source": [
        "df1=copy.deepcopy(df)"
      ],
      "metadata": {
        "id": "V5JREggEWtdx"
      },
      "execution_count": null,
      "outputs": []
    },
    {
      "cell_type": "code",
      "source": [
        "#Renaming of Categorical Variables\n",
        "df1['season'].replace({1:\"spring\",2:\"summer\",3:\"fall\",4:\"winter\"},inplace=True)\n",
        "df1['weather'].replace({1:\"Clear, Few clouds, partly cloudy\",\n",
        "                        2:\"Mist + Cloudy, Mist + Broken clouds, Mist + Few clouds, Mist\",\n",
        "                        3:\"Light Snow, Light Rain + Thunderstorm + Scattered clouds, Light Rain + Scattered clouds\",\n",
        "                        4:'Heavy Rain + Ice Pallets + Thunderstorm + Mist, Snow + Fog'},inplace=True)\n",
        "df1['workingday'].replace({0:\"No\",1:\"Yes\"},inplace=True)\n",
        "df1['holiday'].replace({0:\"No\",1:\"Yes\"},inplace=True)\n"
      ],
      "metadata": {
        "id": "k9mkghlbPwkA"
      },
      "execution_count": null,
      "outputs": []
    },
    {
      "cell_type": "code",
      "source": [
        "df1['season'].value_counts(normalize=True)\n"
      ],
      "metadata": {
        "colab": {
          "base_uri": "https://localhost:8080/"
        },
        "id": "JZ7GRhLFGch_",
        "outputId": "8f3d4ac8-53f6-4fff-994e-1aae5c4477ed"
      },
      "execution_count": null,
      "outputs": [
        {
          "output_type": "execute_result",
          "data": {
            "text/plain": [
              "winter    0.251148\n",
              "summer    0.251056\n",
              "fall      0.251056\n",
              "spring    0.246739\n",
              "Name: season, dtype: float64"
            ]
          },
          "metadata": {},
          "execution_count": 17
        }
      ]
    },
    {
      "cell_type": "code",
      "source": [
        "df1['holiday'].value_counts(normalize=True)"
      ],
      "metadata": {
        "colab": {
          "base_uri": "https://localhost:8080/"
        },
        "id": "_Qy8THroGwrC",
        "outputId": "5be49761-f980-44d2-db26-f88ad0e1b890"
      },
      "execution_count": null,
      "outputs": [
        {
          "output_type": "execute_result",
          "data": {
            "text/plain": [
              "No     0.971431\n",
              "Yes    0.028569\n",
              "Name: holiday, dtype: float64"
            ]
          },
          "metadata": {},
          "execution_count": 18
        }
      ]
    },
    {
      "cell_type": "code",
      "source": [
        "df1['workingday'].value_counts(normalize=True)"
      ],
      "metadata": {
        "colab": {
          "base_uri": "https://localhost:8080/"
        },
        "id": "CxnKBhkWG4Lw",
        "outputId": "96c9df98-0095-4287-90de-5e33aeb42a17"
      },
      "execution_count": null,
      "outputs": [
        {
          "output_type": "execute_result",
          "data": {
            "text/plain": [
              "Yes    0.680875\n",
              "No     0.319125\n",
              "Name: workingday, dtype: float64"
            ]
          },
          "metadata": {},
          "execution_count": 19
        }
      ]
    },
    {
      "cell_type": "code",
      "source": [
        "df1['weather'].value_counts(normalize=True)"
      ],
      "metadata": {
        "colab": {
          "base_uri": "https://localhost:8080/"
        },
        "id": "sTOTIC9OG-mq",
        "outputId": "de62af17-bf47-4789-9337-a742d8f57041"
      },
      "execution_count": null,
      "outputs": [
        {
          "output_type": "execute_result",
          "data": {
            "text/plain": [
              "Clear, Few clouds, partly cloudy                                                           0.660665\n",
              "Mist + Cloudy, Mist + Broken clouds, Mist + Few clouds, Mist                               0.260334\n",
              "Light Snow, Light Rain + Thunderstorm + Scattered clouds, Light Rain + Scattered clouds    0.078909\n",
              "Heavy Rain + Ice Pallets + Thunderstorm + Mist, Snow + Fog                                 0.000092\n",
              "Name: weather, dtype: float64"
            ]
          },
          "metadata": {},
          "execution_count": 20
        }
      ]
    },
    {
      "cell_type": "code",
      "source": [
        "df1['temp'].describe()"
      ],
      "metadata": {
        "colab": {
          "base_uri": "https://localhost:8080/"
        },
        "id": "B-zXm4YmKNje",
        "outputId": "2bfa627c-9d4f-40ac-93fd-8fd6eaceb3d6"
      },
      "execution_count": null,
      "outputs": [
        {
          "output_type": "execute_result",
          "data": {
            "text/plain": [
              "count    10886.00000\n",
              "mean        20.23086\n",
              "std          7.79159\n",
              "min          0.82000\n",
              "25%         13.94000\n",
              "50%         20.50000\n",
              "75%         26.24000\n",
              "max         41.00000\n",
              "Name: temp, dtype: float64"
            ]
          },
          "metadata": {},
          "execution_count": 21
        }
      ]
    },
    {
      "cell_type": "code",
      "source": [
        "df1['atemp'].describe()"
      ],
      "metadata": {
        "colab": {
          "base_uri": "https://localhost:8080/"
        },
        "id": "RI21sUWnLqQV",
        "outputId": "7bebf21f-d9ae-4302-d3a3-587ffec141a3"
      },
      "execution_count": null,
      "outputs": [
        {
          "output_type": "execute_result",
          "data": {
            "text/plain": [
              "count    10886.000000\n",
              "mean        23.655084\n",
              "std          8.474601\n",
              "min          0.760000\n",
              "25%         16.665000\n",
              "50%         24.240000\n",
              "75%         31.060000\n",
              "max         45.455000\n",
              "Name: atemp, dtype: float64"
            ]
          },
          "metadata": {},
          "execution_count": 22
        }
      ]
    },
    {
      "cell_type": "code",
      "source": [
        "df1['windspeed'].describe()"
      ],
      "metadata": {
        "colab": {
          "base_uri": "https://localhost:8080/"
        },
        "id": "Hsmz1ACrLxca",
        "outputId": "5b8e4092-2ff0-41ca-a8da-79339e05ee38"
      },
      "execution_count": null,
      "outputs": [
        {
          "output_type": "execute_result",
          "data": {
            "text/plain": [
              "count    10886.000000\n",
              "mean        12.799395\n",
              "std          8.164537\n",
              "min          0.000000\n",
              "25%          7.001500\n",
              "50%         12.998000\n",
              "75%         16.997900\n",
              "max         56.996900\n",
              "Name: windspeed, dtype: float64"
            ]
          },
          "metadata": {},
          "execution_count": 23
        }
      ]
    },
    {
      "cell_type": "code",
      "source": [
        "df1['humidity'].describe()"
      ],
      "metadata": {
        "colab": {
          "base_uri": "https://localhost:8080/"
        },
        "id": "HbFShG4WMM28",
        "outputId": "0b3c35e3-7ed7-4b6e-83c2-a24cd93dc584"
      },
      "execution_count": null,
      "outputs": [
        {
          "output_type": "execute_result",
          "data": {
            "text/plain": [
              "count    10886.000000\n",
              "mean        61.886460\n",
              "std         19.245033\n",
              "min          0.000000\n",
              "25%         47.000000\n",
              "50%         62.000000\n",
              "75%         77.000000\n",
              "max        100.000000\n",
              "Name: humidity, dtype: float64"
            ]
          },
          "metadata": {},
          "execution_count": 24
        }
      ]
    },
    {
      "cell_type": "code",
      "source": [
        "df1['casual'].describe()"
      ],
      "metadata": {
        "colab": {
          "base_uri": "https://localhost:8080/"
        },
        "id": "P04VLA8sMOv4",
        "outputId": "45f8ce94-bf03-4da0-8a53-17655648d11a"
      },
      "execution_count": null,
      "outputs": [
        {
          "output_type": "execute_result",
          "data": {
            "text/plain": [
              "count    10886.000000\n",
              "mean        36.021955\n",
              "std         49.960477\n",
              "min          0.000000\n",
              "25%          4.000000\n",
              "50%         17.000000\n",
              "75%         49.000000\n",
              "max        367.000000\n",
              "Name: casual, dtype: float64"
            ]
          },
          "metadata": {},
          "execution_count": 25
        }
      ]
    },
    {
      "cell_type": "code",
      "source": [
        "df1['registered'].describe()"
      ],
      "metadata": {
        "colab": {
          "base_uri": "https://localhost:8080/"
        },
        "id": "z4kTPfpdMXRW",
        "outputId": "8b8949af-a3a1-4e98-f6a5-b7972b4b453e"
      },
      "execution_count": null,
      "outputs": [
        {
          "output_type": "execute_result",
          "data": {
            "text/plain": [
              "count    10886.000000\n",
              "mean       155.552177\n",
              "std        151.039033\n",
              "min          0.000000\n",
              "25%         36.000000\n",
              "50%        118.000000\n",
              "75%        222.000000\n",
              "max        886.000000\n",
              "Name: registered, dtype: float64"
            ]
          },
          "metadata": {},
          "execution_count": 26
        }
      ]
    },
    {
      "cell_type": "code",
      "source": [
        "df1['count'].describe()"
      ],
      "metadata": {
        "colab": {
          "base_uri": "https://localhost:8080/"
        },
        "id": "PKaKjokAMfwH",
        "outputId": "2ca83f96-0bb3-4d04-b8ba-4c2ee871f921"
      },
      "execution_count": null,
      "outputs": [
        {
          "output_type": "execute_result",
          "data": {
            "text/plain": [
              "count    10886.000000\n",
              "mean       191.574132\n",
              "std        181.144454\n",
              "min          1.000000\n",
              "25%         42.000000\n",
              "50%        145.000000\n",
              "75%        284.000000\n",
              "max        977.000000\n",
              "Name: count, dtype: float64"
            ]
          },
          "metadata": {},
          "execution_count": 27
        }
      ]
    },
    {
      "cell_type": "markdown",
      "source": [
        "##Univariate Analysis"
      ],
      "metadata": {
        "id": "azL13ljkW_tN"
      }
    },
    {
      "cell_type": "code",
      "source": [
        "sns.barplot(x='season', y='count', data=df1)"
      ],
      "metadata": {
        "colab": {
          "base_uri": "https://localhost:8080/",
          "height": 467
        },
        "id": "X9pGANekXDEJ",
        "outputId": "f5f98ba6-8c0e-4981-87ca-b9c6ba1ec50b"
      },
      "execution_count": null,
      "outputs": [
        {
          "output_type": "execute_result",
          "data": {
            "text/plain": [
              "<Axes: xlabel='season', ylabel='count'>"
            ]
          },
          "metadata": {},
          "execution_count": 28
        },
        {
          "output_type": "display_data",
          "data": {
            "text/plain": [
              "<Figure size 640x480 with 1 Axes>"
            ],
            "image/png": "[encoded data removed]"
          },
          "metadata": {}
        }
      ]
    },
    {
      "cell_type": "code",
      "source": [
        "sns.barplot(x='holiday', y='count', data=df1)"
      ],
      "metadata": {
        "colab": {
          "base_uri": "https://localhost:8080/",
          "height": 466
        },
        "id": "GwbmaYC8erBW",
        "outputId": "83177403-ddf0-4bae-9809-b2e3065cadaf"
      },
      "execution_count": null,
      "outputs": [
        {
          "output_type": "execute_result",
          "data": {
            "text/plain": [
              "<Axes: xlabel='holiday', ylabel='count'>"
            ]
          },
          "metadata": {},
          "execution_count": 29
        },
        {
          "output_type": "display_data",
          "data": {
            "text/plain": [
              "<Figure size 640x480 with 1 Axes>"
            ],
            "image/png": "[encoded data removed]"
          },
          "metadata": {}
        }
      ]
    },
    {
      "cell_type": "code",
      "source": [
        "sns.barplot(x='workingday', y='count', data=df1)"
      ],
      "metadata": {
        "colab": {
          "base_uri": "https://localhost:8080/",
          "height": 466
        },
        "id": "uf7cgBUBevyw",
        "outputId": "2ac9a520-b3e0-4049-c5ec-f49b552c31d6"
      },
      "execution_count": null,
      "outputs": [
        {
          "output_type": "execute_result",
          "data": {
            "text/plain": [
              "<Axes: xlabel='workingday', ylabel='count'>"
            ]
          },
          "metadata": {},
          "execution_count": 30
        },
        {
          "output_type": "display_data",
          "data": {
            "text/plain": [
              "<Figure size 640x480 with 1 Axes>"
            ],
            "image/png": "[encoded data removed]"
          },
          "metadata": {}
        }
      ]
    },
    {
      "cell_type": "code",
      "source": [
        "sns.barplot(x='weather', y='count', data=df)"
      ],
      "metadata": {
        "colab": {
          "base_uri": "https://localhost:8080/",
          "height": 466
        },
        "id": "RTqcozRMe38q",
        "outputId": "052b8dbf-3770-49c9-f123-076ca5346819"
      },
      "execution_count": null,
      "outputs": [
        {
          "output_type": "execute_result",
          "data": {
            "text/plain": [
              "<Axes: xlabel='weather', ylabel='count'>"
            ]
          },
          "metadata": {},
          "execution_count": 31
        },
        {
          "output_type": "display_data",
          "data": {
            "text/plain": [
              "<Figure size 640x480 with 1 Axes>"
            ],
            "image/png": "[encoded data removed]"
          },
          "metadata": {}
        }
      ]
    },
    {
      "cell_type": "code",
      "source": [
        "# Categorical variable v/s Rented Cycles Count distribution bar plots\n",
        "colnames=['holiday', 'workingday', 'weather', 'season' ]\n",
        "plt.figure(figsize = (20, len(colnames)*6 ))\n",
        "k=1\n",
        "for colname in colnames:\n",
        "  plt.subplot(len(colnames),2,k)\n",
        "  s = df1.groupby(colname)['count'].sum().sort_values(ascending=True)\n",
        "  g = sns.barplot(data=s, x=s.index, y=s.values )\n",
        "  g.set(xticklabels=s.index)\n",
        "  g.set_ylabel(\"Rented Cycles Count\")\n",
        "  g.set_xlabel(f\"{colname} categories\")\n",
        "  k+=1\n"
      ],
      "metadata": {
        "colab": {
          "base_uri": "https://localhost:8080/",
          "height": 649
        },
        "id": "Rx6ZwRJue95m",
        "outputId": "86dc84d4-f58a-4aa5-bc04-eca35bd97701"
      },
      "execution_count": null,
      "outputs": [
        {
          "output_type": "display_data",
          "data": {
            "text/plain": [
              "<Figure size 2000x2400 with 4 Axes>"
            ],
            "image/png": "[encoded data removed]"
          },
          "metadata": {}
        }
      ]
    },
    {
      "cell_type": "code",
      "source": [
        "# Continuous variable distribution plots\n",
        "plt.figure(figsize=(12, 8))\n",
        "plt.subplot(2, 2, 1)\n",
        "sns.histplot(df['temp'], kde=True)\n",
        "plt.title('Temperature Distribution')\n",
        "\n",
        "plt.subplot(2, 2, 2)\n",
        "sns.histplot(df['atemp'], kde=True)\n",
        "plt.title('Feeling Temperature Distribution')\n",
        "\n",
        "plt.subplot(2, 2, 3)\n",
        "sns.histplot(df['humidity'], kde=True)\n",
        "plt.title('Humidity Distribution')\n",
        "\n",
        "plt.subplot(2, 2, 4)\n",
        "sns.histplot(df['windspeed'], kde=True)\n",
        "plt.title('Wind Speed Distribution')\n",
        "\n",
        "plt.tight_layout()\n",
        "plt.show()"
      ],
      "metadata": {
        "colab": {
          "base_uri": "https://localhost:8080/",
          "height": 757
        },
        "id": "IFd2RH4umeCq",
        "outputId": "864a123d-218f-4f6e-b024-bee2e45de565"
      },
      "execution_count": null,
      "outputs": [
        {
          "output_type": "display_data",
          "data": {
            "text/plain": [
              "<Figure size 1200x800 with 4 Axes>"
            ],
            "image/png": "[encoded data removed]"
          },
          "metadata": {}
        }
      ]
    },
    {
      "cell_type": "markdown",
      "source": [
        "##Bivariate Analysis"
      ],
      "metadata": {
        "id": "CXK2YLjJV0au"
      }
    },
    {
      "cell_type": "code",
      "source": [
        "df.groupby(by='season')['holiday'].sum().sort_values(ascending=False)"
      ],
      "metadata": {
        "colab": {
          "base_uri": "https://localhost:8080/"
        },
        "id": "eL3Ugi5hM6JA",
        "outputId": "a27e82e3-dace-4399-f0b7-29d6ec7aacc6"
      },
      "execution_count": null,
      "outputs": [
        {
          "output_type": "execute_result",
          "data": {
            "text/plain": [
              "season\n",
              "3    96\n",
              "4    96\n",
              "1    71\n",
              "2    48\n",
              "Name: holiday, dtype: object"
            ]
          },
          "metadata": {},
          "execution_count": 34
        }
      ]
    },
    {
      "cell_type": "code",
      "source": [
        "df.groupby(by='season')['workingday'].sum().sort_values(ascending=False)"
      ],
      "metadata": {
        "colab": {
          "base_uri": "https://localhost:8080/"
        },
        "id": "vs45cz-ATNOD",
        "outputId": "50a828b8-9eca-4c43-87de-482d47b7422f"
      },
      "execution_count": null,
      "outputs": [
        {
          "output_type": "execute_result",
          "data": {
            "text/plain": [
              "season\n",
              "2    1893\n",
              "4    1846\n",
              "3    1845\n",
              "1    1828\n",
              "Name: workingday, dtype: object"
            ]
          },
          "metadata": {},
          "execution_count": 35
        }
      ]
    },
    {
      "cell_type": "code",
      "source": [
        "df1.groupby(by='season')['temp'].describe()"
      ],
      "metadata": {
        "colab": {
          "base_uri": "https://localhost:8080/",
          "height": 206
        },
        "id": "SmoQACQfTUWy",
        "outputId": "5c88d5ca-0f9b-4639-af72-60d1ae415f3a"
      },
      "execution_count": null,
      "outputs": [
        {
          "output_type": "execute_result",
          "data": {
            "text/plain": [
              "         count       mean       std    min    25%    50%    75%    max\n",
              "season                                                                \n",
              "fall    2733.0  28.789111  3.898157  15.58  26.24  28.70  31.16  41.00\n",
              "spring  2686.0  12.530491  5.186492   0.82   9.02  12.30  16.40  29.52\n",
              "summer  2733.0  22.823483  5.159616   9.84  18.86  22.96  26.24  38.54\n",
              "winter  2734.0  16.649239  4.742176   5.74  13.12  16.40  20.50  30.34"
            ],
            "text/html": [
              "\n",
              "  <div id=\"df-3b9bc32a-2804-4492-bcdd-878601e9928f\" class=\"colab-df-container\">\n",
              "    <div>\n",
              "<style scoped>\n",
              "    .dataframe tbody tr th:only-of-type {\n",
              "        vertical-align: middle;\n",
              "    }\n",
              "\n",
              "    .dataframe tbody tr th {\n",
              "        vertical-align: top;\n",
              "    }\n",
              "\n",
              "    .dataframe thead th {\n",
              "        text-align: right;\n",
              "    }\n",
              "</style>\n",
              "<table border=\"1\" class=\"dataframe\">\n",
              "  <thead>\n",
              "    <tr style=\"text-align: right;\">\n",
              "      <th></th>\n",
              "      <th>count</th>\n",
              "      <th>mean</th>\n",
              "      <th>std</th>\n",
              "      <th>min</th>\n",
              "      <th>25%</th>\n",
              "      <th>50%</th>\n",
              "      <th>75%</th>\n",
              "      <th>max</th>\n",
              "    </tr>\n",
              "    <tr>\n",
              "      <th>season</th>\n",
              "      <th></th>\n",
              "      <th></th>\n",
              "      <th></th>\n",
              "      <th></th>\n",
              "      <th></th>\n",
              "      <th></th>\n",
              "      <th></th>\n",
              "      <th></th>\n",
              "    </tr>\n",
              "  </thead>\n",
              "  <tbody>\n",
              "    <tr>\n",
              "      <th>fall</th>\n",
              "      <td>2733.0</td>\n",
              "      <td>28.789111</td>\n",
              "      <td>3.898157</td>\n",
              "      <td>15.58</td>\n",
              "      <td>26.24</td>\n",
              "      <td>28.70</td>\n",
              "      <td>31.16</td>\n",
              "      <td>41.00</td>\n",
              "    </tr>\n",
              "    <tr>\n",
              "      <th>spring</th>\n",
              "      <td>2686.0</td>\n",
              "      <td>12.530491</td>\n",
              "      <td>5.186492</td>\n",
              "      <td>0.82</td>\n",
              "      <td>9.02</td>\n",
              "      <td>12.30</td>\n",
              "      <td>16.40</td>\n",
              "      <td>29.52</td>\n",
              "    </tr>\n",
              "    <tr>\n",
              "      <th>summer</th>\n",
              "      <td>2733.0</td>\n",
              "      <td>22.823483</td>\n",
              "      <td>5.159616</td>\n",
              "      <td>9.84</td>\n",
              "      <td>18.86</td>\n",
              "      <td>22.96</td>\n",
              "      <td>26.24</td>\n",
              "      <td>38.54</td>\n",
              "    </tr>\n",
              "    <tr>\n",
              "      <th>winter</th>\n",
              "      <td>2734.0</td>\n",
              "      <td>16.649239</td>\n",
              "      <td>4.742176</td>\n",
              "      <td>5.74</td>\n",
              "      <td>13.12</td>\n",
              "      <td>16.40</td>\n",
              "      <td>20.50</td>\n",
              "      <td>30.34</td>\n",
              "    </tr>\n",
              "  </tbody>\n",
              "</table>\n",
              "</div>\n",
              "    <div class=\"colab-df-buttons\">\n",
              "\n",
              "  <div class=\"colab-df-container\">\n",
              "    <button class=\"colab-df-convert\" onclick=\"convertToInteractive('df-3b9bc32a-2804-4492-bcdd-878601e9928f')\"\n",
              "            title=\"Convert this dataframe to an interactive table.\"\n",
              "            style=\"display:none;\">\n",
              "\n",
              "  <svg xmlns=\"http://www.w3.org/2000/svg\" height=\"24px\" viewBox=\"0 -960 960 960\">\n",
              "    <path d=\"M120-120v-720h720v720H120Zm60-500h600v-160H180v160Zm220 220h160v-160H400v160Zm0 220h160v-160H400v160ZM180-400h160v-160H180v160Zm440 0h160v-160H620v160ZM180-180h160v-160H180v160Zm440 0h160v-160H620v160Z\"/>\n",
              "  </svg>\n",
              "    </button>\n",
              "\n",
              "  <style>\n",
              "    .colab-df-container {\n",
              "      display:flex;\n",
              "      gap: 12px;\n",
              "    }\n",
              "\n",
              "    .colab-df-convert {\n",
              "      background-color: #E8F0FE;\n",
              "      border: none;\n",
              "      border-radius: 50%;\n",
              "      cursor: pointer;\n",
              "      display: none;\n",
              "      fill: #1967D2;\n",
              "      height: 32px;\n",
              "      padding: 0 0 0 0;\n",
              "      width: 32px;\n",
              "    }\n",
              "\n",
              "    .colab-df-convert:hover {\n",
              "      background-color: #E2EBFA;\n",
              "      box-shadow: 0px 1px 2px rgba(60, 64, 67, 0.3), 0px 1px 3px 1px rgba(60, 64, 67, 0.15);\n",
              "      fill: #174EA6;\n",
              "    }\n",
              "\n",
              "    .colab-df-buttons div {\n",
              "      margin-bottom: 4px;\n",
              "    }\n",
              "\n",
              "    [theme=dark] .colab-df-convert {\n",
              "      background-color: #3B4455;\n",
              "      fill: #D2E3FC;\n",
              "    }\n",
              "\n",
              "    [theme=dark] .colab-df-convert:hover {\n",
              "      background-color: #434B5C;\n",
              "      box-shadow: 0px 1px 3px 1px rgba(0, 0, 0, 0.15);\n",
              "      filter: drop-shadow(0px 1px 2px rgba(0, 0, 0, 0.3));\n",
              "      fill: #FFFFFF;\n",
              "    }\n",
              "  </style>\n",
              "\n",
              "    <script>\n",
              "      const buttonEl =\n",
              "        document.querySelector('#df-3b9bc32a-2804-4492-bcdd-878601e9928f button.colab-df-convert');\n",
              "      buttonEl.style.display =\n",
              "        google.colab.kernel.accessAllowed ? 'block' : 'none';\n",
              "\n",
              "      async function convertToInteractive(key) {\n",
              "        const element = document.querySelector('#df-3b9bc32a-2804-4492-bcdd-878601e9928f');\n",
              "        const dataTable =\n",
              "          await google.colab.kernel.invokeFunction('convertToInteractive',\n",
              "                                                    [key], {});\n",
              "        if (!dataTable) return;\n",
              "\n",
              "        const docLinkHtml = 'Like what you see? Visit the ' +\n",
              "          '<a target=\"_blank\" href=https://colab.research.google.com/notebooks/data_table.ipynb>data table notebook</a>'\n",
              "          + ' to learn more about interactive tables.';\n",
              "        element.innerHTML = '';\n",
              "        dataTable['output_type'] = 'display_data';\n",
              "        await google.colab.output.renderOutput(dataTable, element);\n",
              "        const docLink = document.createElement('div');\n",
              "        docLink.innerHTML = docLinkHtml;\n",
              "        element.appendChild(docLink);\n",
              "      }\n",
              "    </script>\n",
              "  </div>\n",
              "\n",
              "\n",
              "<div id=\"df-b1dfaaed-80a0-4410-b487-c5479ccb8449\">\n",
              "  <button class=\"colab-df-quickchart\" onclick=\"quickchart('df-b1dfaaed-80a0-4410-b487-c5479ccb8449')\"\n",
              "            title=\"Suggest charts.\"\n",
              "            style=\"display:none;\">\n",
              "\n",
              "<svg xmlns=\"http://www.w3.org/2000/svg\" height=\"24px\"viewBox=\"0 0 24 24\"\n",
              "     width=\"24px\">\n",
              "    <g>\n",
              "        <path d=\"M19 3H5c-1.1 0-2 .9-2 2v14c0 1.1.9 2 2 2h14c1.1 0 2-.9 2-2V5c0-1.1-.9-2-2-2zM9 17H7v-7h2v7zm4 0h-2V7h2v10zm4 0h-2v-4h2v4z\"/>\n",
              "    </g>\n",
              "</svg>\n",
              "  </button>\n",
              "\n",
              "<style>\n",
              "  .colab-df-quickchart {\n",
              "      --bg-color: #E8F0FE;\n",
              "      --fill-color: #1967D2;\n",
              "      --hover-bg-color: #E2EBFA;\n",
              "      --hover-fill-color: #174EA6;\n",
              "      --disabled-fill-color: #AAA;\n",
              "      --disabled-bg-color: #DDD;\n",
              "  }\n",
              "\n",
              "  [theme=dark] .colab-df-quickchart {\n",
              "      --bg-color: #3B4455;\n",
              "      --fill-color: #D2E3FC;\n",
              "      --hover-bg-color: #434B5C;\n",
              "      --hover-fill-color: #FFFFFF;\n",
              "      --disabled-bg-color: #3B4455;\n",
              "      --disabled-fill-color: #666;\n",
              "  }\n",
              "\n",
              "  .colab-df-quickchart {\n",
              "    background-color: var(--bg-color);\n",
              "    border: none;\n",
              "    border-radius: 50%;\n",
              "    cursor: pointer;\n",
              "    display: none;\n",
              "    fill: var(--fill-color);\n",
              "    height: 32px;\n",
              "    padding: 0;\n",
              "    width: 32px;\n",
              "  }\n",
              "\n",
              "  .colab-df-quickchart:hover {\n",
              "    background-color: var(--hover-bg-color);\n",
              "    box-shadow: 0 1px 2px rgba(60, 64, 67, 0.3), 0 1px 3px 1px rgba(60, 64, 67, 0.15);\n",
              "    fill: var(--button-hover-fill-color);\n",
              "  }\n",
              "\n",
              "  .colab-df-quickchart-complete:disabled,\n",
              "  .colab-df-quickchart-complete:disabled:hover {\n",
              "    background-color: var(--disabled-bg-color);\n",
              "    fill: var(--disabled-fill-color);\n",
              "    box-shadow: none;\n",
              "  }\n",
              "\n",
              "  .colab-df-spinner {\n",
              "    border: 2px solid var(--fill-color);\n",
              "    border-color: transparent;\n",
              "    border-bottom-color: var(--fill-color);\n",
              "    animation:\n",
              "      spin 1s steps(1) infinite;\n",
              "  }\n",
              "\n",
              "  @keyframes spin {\n",
              "    0% {\n",
              "      border-color: transparent;\n",
              "      border-bottom-color: var(--fill-color);\n",
              "      border-left-color: var(--fill-color);\n",
              "    }\n",
              "    20% {\n",
              "      border-color: transparent;\n",
              "      border-left-color: var(--fill-color);\n",
              "      border-top-color: var(--fill-color);\n",
              "    }\n",
              "    30% {\n",
              "      border-color: transparent;\n",
              "      border-left-color: var(--fill-color);\n",
              "      border-top-color: var(--fill-color);\n",
              "      border-right-color: var(--fill-color);\n",
              "    }\n",
              "    40% {\n",
              "      border-color: transparent;\n",
              "      border-right-color: var(--fill-color);\n",
              "      border-top-color: var(--fill-color);\n",
              "    }\n",
              "    60% {\n",
              "      border-color: transparent;\n",
              "      border-right-color: var(--fill-color);\n",
              "    }\n",
              "    80% {\n",
              "      border-color: transparent;\n",
              "      border-right-color: var(--fill-color);\n",
              "      border-bottom-color: var(--fill-color);\n",
              "    }\n",
              "    90% {\n",
              "      border-color: transparent;\n",
              "      border-bottom-color: var(--fill-color);\n",
              "    }\n",
              "  }\n",
              "</style>\n",
              "\n",
              "  <script>\n",
              "    async function quickchart(key) {\n",
              "      const quickchartButtonEl =\n",
              "        document.querySelector('#' + key + ' button');\n",
              "      quickchartButtonEl.disabled = true;  // To prevent multiple clicks.\n",
              "      quickchartButtonEl.classList.add('colab-df-spinner');\n",
              "      try {\n",
              "        const charts = await google.colab.kernel.invokeFunction(\n",
              "            'suggestCharts', [key], {});\n",
              "      } catch (error) {\n",
              "        console.error('Error during call to suggestCharts:', error);\n",
              "      }\n",
              "      quickchartButtonEl.classList.remove('colab-df-spinner');\n",
              "      quickchartButtonEl.classList.add('colab-df-quickchart-complete');\n",
              "    }\n",
              "    (() => {\n",
              "      let quickchartButtonEl =\n",
              "        document.querySelector('#df-b1dfaaed-80a0-4410-b487-c5479ccb8449 button');\n",
              "      quickchartButtonEl.style.display =\n",
              "        google.colab.kernel.accessAllowed ? 'block' : 'none';\n",
              "    })();\n",
              "  </script>\n",
              "</div>\n",
              "    </div>\n",
              "  </div>\n"
            ]
          },
          "metadata": {},
          "execution_count": 36
        }
      ]
    },
    {
      "cell_type": "code",
      "source": [
        "df1.groupby(by='season')['atemp'].describe()"
      ],
      "metadata": {
        "colab": {
          "base_uri": "https://localhost:8080/",
          "height": 206
        },
        "id": "aHW9oEf1TdvG",
        "outputId": "fc9dd4b5-dcc2-49d9-99b5-990433eef233"
      },
      "execution_count": null,
      "outputs": [
        {
          "output_type": "execute_result",
          "data": {
            "text/plain": [
              "         count       mean       std     min     25%     50%     75%     max\n",
              "season                                                                     \n",
              "fall    2733.0  32.540783  4.594888  12.120  30.305  33.335  35.605  45.455\n",
              "spring  2686.0  15.228956  6.092218   0.760  10.605  14.395  20.455  32.575\n",
              "summer  2733.0  26.647098  5.491321  11.365  22.725  26.515  31.060  43.940\n",
              "winter  2734.0  20.059909  5.264197   7.575  15.910  20.455  24.240  34.090"
            ],
            "text/html": [
              "\n",
              "  <div id=\"df-49a17172-e97f-4065-b1e2-bac6910dc5f2\" class=\"colab-df-container\">\n",
              "    <div>\n",
              "<style scoped>\n",
              "    .dataframe tbody tr th:only-of-type {\n",
              "        vertical-align: middle;\n",
              "    }\n",
              "\n",
              "    .dataframe tbody tr th {\n",
              "        vertical-align: top;\n",
              "    }\n",
              "\n",
              "    .dataframe thead th {\n",
              "        text-align: right;\n",
              "    }\n",
              "</style>\n",
              "<table border=\"1\" class=\"dataframe\">\n",
              "  <thead>\n",
              "    <tr style=\"text-align: right;\">\n",
              "      <th></th>\n",
              "      <th>count</th>\n",
              "      <th>mean</th>\n",
              "      <th>std</th>\n",
              "      <th>min</th>\n",
              "      <th>25%</th>\n",
              "      <th>50%</th>\n",
              "      <th>75%</th>\n",
              "      <th>max</th>\n",
              "    </tr>\n",
              "    <tr>\n",
              "      <th>season</th>\n",
              "      <th></th>\n",
              "      <th></th>\n",
              "      <th></th>\n",
              "      <th></th>\n",
              "      <th></th>\n",
              "      <th></th>\n",
              "      <th></th>\n",
              "      <th></th>\n",
              "    </tr>\n",
              "  </thead>\n",
              "  <tbody>\n",
              "    <tr>\n",
              "      <th>fall</th>\n",
              "      <td>2733.0</td>\n",
              "      <td>32.540783</td>\n",
              "      <td>4.594888</td>\n",
              "      <td>12.120</td>\n",
              "      <td>30.305</td>\n",
              "      <td>33.335</td>\n",
              "      <td>35.605</td>\n",
              "      <td>45.455</td>\n",
              "    </tr>\n",
              "    <tr>\n",
              "      <th>spring</th>\n",
              "      <td>2686.0</td>\n",
              "      <td>15.228956</td>\n",
              "      <td>6.092218</td>\n",
              "      <td>0.760</td>\n",
              "      <td>10.605</td>\n",
              "      <td>14.395</td>\n",
              "      <td>20.455</td>\n",
              "      <td>32.575</td>\n",
              "    </tr>\n",
              "    <tr>\n",
              "      <th>summer</th>\n",
              "      <td>2733.0</td>\n",
              "      <td>26.647098</td>\n",
              "      <td>5.491321</td>\n",
              "      <td>11.365</td>\n",
              "      <td>22.725</td>\n",
              "      <td>26.515</td>\n",
              "      <td>31.060</td>\n",
              "      <td>43.940</td>\n",
              "    </tr>\n",
              "    <tr>\n",
              "      <th>winter</th>\n",
              "      <td>2734.0</td>\n",
              "      <td>20.059909</td>\n",
              "      <td>5.264197</td>\n",
              "      <td>7.575</td>\n",
              "      <td>15.910</td>\n",
              "      <td>20.455</td>\n",
              "      <td>24.240</td>\n",
              "      <td>34.090</td>\n",
              "    </tr>\n",
              "  </tbody>\n",
              "</table>\n",
              "</div>\n",
              "    <div class=\"colab-df-buttons\">\n",
              "\n",
              "  <div class=\"colab-df-container\">\n",
              "    <button class=\"colab-df-convert\" onclick=\"convertToInteractive('df-49a17172-e97f-4065-b1e2-bac6910dc5f2')\"\n",
              "            title=\"Convert this dataframe to an interactive table.\"\n",
              "            style=\"display:none;\">\n",
              "\n",
              "  <svg xmlns=\"http://www.w3.org/2000/svg\" height=\"24px\" viewBox=\"0 -960 960 960\">\n",
              "    <path d=\"M120-120v-720h720v720H120Zm60-500h600v-160H180v160Zm220 220h160v-160H400v160Zm0 220h160v-160H400v160ZM180-400h160v-160H180v160Zm440 0h160v-160H620v160ZM180-180h160v-160H180v160Zm440 0h160v-160H620v160Z\"/>\n",
              "  </svg>\n",
              "    </button>\n",
              "\n",
              "  <style>\n",
              "    .colab-df-container {\n",
              "      display:flex;\n",
              "      gap: 12px;\n",
              "    }\n",
              "\n",
              "    .colab-df-convert {\n",
              "      background-color: #E8F0FE;\n",
              "      border: none;\n",
              "      border-radius: 50%;\n",
              "      cursor: pointer;\n",
              "      display: none;\n",
              "      fill: #1967D2;\n",
              "      height: 32px;\n",
              "      padding: 0 0 0 0;\n",
              "      width: 32px;\n",
              "    }\n",
              "\n",
              "    .colab-df-convert:hover {\n",
              "      background-color: #E2EBFA;\n",
              "      box-shadow: 0px 1px 2px rgba(60, 64, 67, 0.3), 0px 1px 3px 1px rgba(60, 64, 67, 0.15);\n",
              "      fill: #174EA6;\n",
              "    }\n",
              "\n",
              "    .colab-df-buttons div {\n",
              "      margin-bottom: 4px;\n",
              "    }\n",
              "\n",
              "    [theme=dark] .colab-df-convert {\n",
              "      background-color: #3B4455;\n",
              "      fill: #D2E3FC;\n",
              "    }\n",
              "\n",
              "    [theme=dark] .colab-df-convert:hover {\n",
              "      background-color: #434B5C;\n",
              "      box-shadow: 0px 1px 3px 1px rgba(0, 0, 0, 0.15);\n",
              "      filter: drop-shadow(0px 1px 2px rgba(0, 0, 0, 0.3));\n",
              "      fill: #FFFFFF;\n",
              "    }\n",
              "  </style>\n",
              "\n",
              "    <script>\n",
              "      const buttonEl =\n",
              "        document.querySelector('#df-49a17172-e97f-4065-b1e2-bac6910dc5f2 button.colab-df-convert');\n",
              "      buttonEl.style.display =\n",
              "        google.colab.kernel.accessAllowed ? 'block' : 'none';\n",
              "\n",
              "      async function convertToInteractive(key) {\n",
              "        const element = document.querySelector('#df-49a17172-e97f-4065-b1e2-bac6910dc5f2');\n",
              "        const dataTable =\n",
              "          await google.colab.kernel.invokeFunction('convertToInteractive',\n",
              "                                                    [key], {});\n",
              "        if (!dataTable) return;\n",
              "\n",
              "        const docLinkHtml = 'Like what you see? Visit the ' +\n",
              "          '<a target=\"_blank\" href=https://colab.research.google.com/notebooks/data_table.ipynb>data table notebook</a>'\n",
              "          + ' to learn more about interactive tables.';\n",
              "        element.innerHTML = '';\n",
              "        dataTable['output_type'] = 'display_data';\n",
              "        await google.colab.output.renderOutput(dataTable, element);\n",
              "        const docLink = document.createElement('div');\n",
              "        docLink.innerHTML = docLinkHtml;\n",
              "        element.appendChild(docLink);\n",
              "      }\n",
              "    </script>\n",
              "  </div>\n",
              "\n",
              "\n",
              "<div id=\"df-f81a5ebd-5e12-4b69-a927-a41bc1ebf029\">\n",
              "  <button class=\"colab-df-quickchart\" onclick=\"quickchart('df-f81a5ebd-5e12-4b69-a927-a41bc1ebf029')\"\n",
              "            title=\"Suggest charts.\"\n",
              "            style=\"display:none;\">\n",
              "\n",
              "<svg xmlns=\"http://www.w3.org/2000/svg\" height=\"24px\"viewBox=\"0 0 24 24\"\n",
              "     width=\"24px\">\n",
              "    <g>\n",
              "        <path d=\"M19 3H5c-1.1 0-2 .9-2 2v14c0 1.1.9 2 2 2h14c1.1 0 2-.9 2-2V5c0-1.1-.9-2-2-2zM9 17H7v-7h2v7zm4 0h-2V7h2v10zm4 0h-2v-4h2v4z\"/>\n",
              "    </g>\n",
              "</svg>\n",
              "  </button>\n",
              "\n",
              "<style>\n",
              "  .colab-df-quickchart {\n",
              "      --bg-color: #E8F0FE;\n",
              "      --fill-color: #1967D2;\n",
              "      --hover-bg-color: #E2EBFA;\n",
              "      --hover-fill-color: #174EA6;\n",
              "      --disabled-fill-color: #AAA;\n",
              "      --disabled-bg-color: #DDD;\n",
              "  }\n",
              "\n",
              "  [theme=dark] .colab-df-quickchart {\n",
              "      --bg-color: #3B4455;\n",
              "      --fill-color: #D2E3FC;\n",
              "      --hover-bg-color: #434B5C;\n",
              "      --hover-fill-color: #FFFFFF;\n",
              "      --disabled-bg-color: #3B4455;\n",
              "      --disabled-fill-color: #666;\n",
              "  }\n",
              "\n",
              "  .colab-df-quickchart {\n",
              "    background-color: var(--bg-color);\n",
              "    border: none;\n",
              "    border-radius: 50%;\n",
              "    cursor: pointer;\n",
              "    display: none;\n",
              "    fill: var(--fill-color);\n",
              "    height: 32px;\n",
              "    padding: 0;\n",
              "    width: 32px;\n",
              "  }\n",
              "\n",
              "  .colab-df-quickchart:hover {\n",
              "    background-color: var(--hover-bg-color);\n",
              "    box-shadow: 0 1px 2px rgba(60, 64, 67, 0.3), 0 1px 3px 1px rgba(60, 64, 67, 0.15);\n",
              "    fill: var(--button-hover-fill-color);\n",
              "  }\n",
              "\n",
              "  .colab-df-quickchart-complete:disabled,\n",
              "  .colab-df-quickchart-complete:disabled:hover {\n",
              "    background-color: var(--disabled-bg-color);\n",
              "    fill: var(--disabled-fill-color);\n",
              "    box-shadow: none;\n",
              "  }\n",
              "\n",
              "  .colab-df-spinner {\n",
              "    border: 2px solid var(--fill-color);\n",
              "    border-color: transparent;\n",
              "    border-bottom-color: var(--fill-color);\n",
              "    animation:\n",
              "      spin 1s steps(1) infinite;\n",
              "  }\n",
              "\n",
              "  @keyframes spin {\n",
              "    0% {\n",
              "      border-color: transparent;\n",
              "      border-bottom-color: var(--fill-color);\n",
              "      border-left-color: var(--fill-color);\n",
              "    }\n",
              "    20% {\n",
              "      border-color: transparent;\n",
              "      border-left-color: var(--fill-color);\n",
              "      border-top-color: var(--fill-color);\n",
              "    }\n",
              "    30% {\n",
              "      border-color: transparent;\n",
              "      border-left-color: var(--fill-color);\n",
              "      border-top-color: var(--fill-color);\n",
              "      border-right-color: var(--fill-color);\n",
              "    }\n",
              "    40% {\n",
              "      border-color: transparent;\n",
              "      border-right-color: var(--fill-color);\n",
              "      border-top-color: var(--fill-color);\n",
              "    }\n",
              "    60% {\n",
              "      border-color: transparent;\n",
              "      border-right-color: var(--fill-color);\n",
              "    }\n",
              "    80% {\n",
              "      border-color: transparent;\n",
              "      border-right-color: var(--fill-color);\n",
              "      border-bottom-color: var(--fill-color);\n",
              "    }\n",
              "    90% {\n",
              "      border-color: transparent;\n",
              "      border-bottom-color: var(--fill-color);\n",
              "    }\n",
              "  }\n",
              "</style>\n",
              "\n",
              "  <script>\n",
              "    async function quickchart(key) {\n",
              "      const quickchartButtonEl =\n",
              "        document.querySelector('#' + key + ' button');\n",
              "      quickchartButtonEl.disabled = true;  // To prevent multiple clicks.\n",
              "      quickchartButtonEl.classList.add('colab-df-spinner');\n",
              "      try {\n",
              "        const charts = await google.colab.kernel.invokeFunction(\n",
              "            'suggestCharts', [key], {});\n",
              "      } catch (error) {\n",
              "        console.error('Error during call to suggestCharts:', error);\n",
              "      }\n",
              "      quickchartButtonEl.classList.remove('colab-df-spinner');\n",
              "      quickchartButtonEl.classList.add('colab-df-quickchart-complete');\n",
              "    }\n",
              "    (() => {\n",
              "      let quickchartButtonEl =\n",
              "        document.querySelector('#df-f81a5ebd-5e12-4b69-a927-a41bc1ebf029 button');\n",
              "      quickchartButtonEl.style.display =\n",
              "        google.colab.kernel.accessAllowed ? 'block' : 'none';\n",
              "    })();\n",
              "  </script>\n",
              "</div>\n",
              "    </div>\n",
              "  </div>\n"
            ]
          },
          "metadata": {},
          "execution_count": 37
        }
      ]
    },
    {
      "cell_type": "code",
      "source": [
        "df1.groupby(by='season')['humidity'].describe()"
      ],
      "metadata": {
        "colab": {
          "base_uri": "https://localhost:8080/",
          "height": 206
        },
        "id": "yFn8bGb7TlWB",
        "outputId": "4e10da5f-6538-4688-fefa-f7cd081e09f0"
      },
      "execution_count": null,
      "outputs": [
        {
          "output_type": "execute_result",
          "data": {
            "text/plain": [
              "         count       mean        std   min   25%   50%   75%    max\n",
              "season                                                             \n",
              "fall    2733.0  64.123674  17.217859  17.0  51.0  66.0  78.0  100.0\n",
              "spring  2686.0  56.297841  20.158420   0.0  41.0  53.0  70.0  100.0\n",
              "summer  2733.0  60.852909  20.179655  16.0  45.0  61.0  78.0  100.0\n",
              "winter  2734.0  66.173738  17.813446  16.0  52.0  66.0  81.0  100.0"
            ],
            "text/html": [
              "\n",
              "  <div id=\"df-aef06cf9-9bc2-40b9-8d1a-1cc0ba57ff8d\" class=\"colab-df-container\">\n",
              "    <div>\n",
              "<style scoped>\n",
              "    .dataframe tbody tr th:only-of-type {\n",
              "        vertical-align: middle;\n",
              "    }\n",
              "\n",
              "    .dataframe tbody tr th {\n",
              "        vertical-align: top;\n",
              "    }\n",
              "\n",
              "    .dataframe thead th {\n",
              "        text-align: right;\n",
              "    }\n",
              "</style>\n",
              "<table border=\"1\" class=\"dataframe\">\n",
              "  <thead>\n",
              "    <tr style=\"text-align: right;\">\n",
              "      <th></th>\n",
              "      <th>count</th>\n",
              "      <th>mean</th>\n",
              "      <th>std</th>\n",
              "      <th>min</th>\n",
              "      <th>25%</th>\n",
              "      <th>50%</th>\n",
              "      <th>75%</th>\n",
              "      <th>max</th>\n",
              "    </tr>\n",
              "    <tr>\n",
              "      <th>season</th>\n",
              "      <th></th>\n",
              "      <th></th>\n",
              "      <th></th>\n",
              "      <th></th>\n",
              "      <th></th>\n",
              "      <th></th>\n",
              "      <th></th>\n",
              "      <th></th>\n",
              "    </tr>\n",
              "  </thead>\n",
              "  <tbody>\n",
              "    <tr>\n",
              "      <th>fall</th>\n",
              "      <td>2733.0</td>\n",
              "      <td>64.123674</td>\n",
              "      <td>17.217859</td>\n",
              "      <td>17.0</td>\n",
              "      <td>51.0</td>\n",
              "      <td>66.0</td>\n",
              "      <td>78.0</td>\n",
              "      <td>100.0</td>\n",
              "    </tr>\n",
              "    <tr>\n",
              "      <th>spring</th>\n",
              "      <td>2686.0</td>\n",
              "      <td>56.297841</td>\n",
              "      <td>20.158420</td>\n",
              "      <td>0.0</td>\n",
              "      <td>41.0</td>\n",
              "      <td>53.0</td>\n",
              "      <td>70.0</td>\n",
              "      <td>100.0</td>\n",
              "    </tr>\n",
              "    <tr>\n",
              "      <th>summer</th>\n",
              "      <td>2733.0</td>\n",
              "      <td>60.852909</td>\n",
              "      <td>20.179655</td>\n",
              "      <td>16.0</td>\n",
              "      <td>45.0</td>\n",
              "      <td>61.0</td>\n",
              "      <td>78.0</td>\n",
              "      <td>100.0</td>\n",
              "    </tr>\n",
              "    <tr>\n",
              "      <th>winter</th>\n",
              "      <td>2734.0</td>\n",
              "      <td>66.173738</td>\n",
              "      <td>17.813446</td>\n",
              "      <td>16.0</td>\n",
              "      <td>52.0</td>\n",
              "      <td>66.0</td>\n",
              "      <td>81.0</td>\n",
              "      <td>100.0</td>\n",
              "    </tr>\n",
              "  </tbody>\n",
              "</table>\n",
              "</div>\n",
              "    <div class=\"colab-df-buttons\">\n",
              "\n",
              "  <div class=\"colab-df-container\">\n",
              "    <button class=\"colab-df-convert\" onclick=\"convertToInteractive('df-aef06cf9-9bc2-40b9-8d1a-1cc0ba57ff8d')\"\n",
              "            title=\"Convert this dataframe to an interactive table.\"\n",
              "            style=\"display:none;\">\n",
              "\n",
              "  <svg xmlns=\"http://www.w3.org/2000/svg\" height=\"24px\" viewBox=\"0 -960 960 960\">\n",
              "    <path d=\"M120-120v-720h720v720H120Zm60-500h600v-160H180v160Zm220 220h160v-160H400v160Zm0 220h160v-160H400v160ZM180-400h160v-160H180v160Zm440 0h160v-160H620v160ZM180-180h160v-160H180v160Zm440 0h160v-160H620v160Z\"/>\n",
              "  </svg>\n",
              "    </button>\n",
              "\n",
              "  <style>\n",
              "    .colab-df-container {\n",
              "      display:flex;\n",
              "      gap: 12px;\n",
              "    }\n",
              "\n",
              "    .colab-df-convert {\n",
              "      background-color: #E8F0FE;\n",
              "      border: none;\n",
              "      border-radius: 50%;\n",
              "      cursor: pointer;\n",
              "      display: none;\n",
              "      fill: #1967D2;\n",
              "      height: 32px;\n",
              "      padding: 0 0 0 0;\n",
              "      width: 32px;\n",
              "    }\n",
              "\n",
              "    .colab-df-convert:hover {\n",
              "      background-color: #E2EBFA;\n",
              "      box-shadow: 0px 1px 2px rgba(60, 64, 67, 0.3), 0px 1px 3px 1px rgba(60, 64, 67, 0.15);\n",
              "      fill: #174EA6;\n",
              "    }\n",
              "\n",
              "    .colab-df-buttons div {\n",
              "      margin-bottom: 4px;\n",
              "    }\n",
              "\n",
              "    [theme=dark] .colab-df-convert {\n",
              "      background-color: #3B4455;\n",
              "      fill: #D2E3FC;\n",
              "    }\n",
              "\n",
              "    [theme=dark] .colab-df-convert:hover {\n",
              "      background-color: #434B5C;\n",
              "      box-shadow: 0px 1px 3px 1px rgba(0, 0, 0, 0.15);\n",
              "      filter: drop-shadow(0px 1px 2px rgba(0, 0, 0, 0.3));\n",
              "      fill: #FFFFFF;\n",
              "    }\n",
              "  </style>\n",
              "\n",
              "    <script>\n",
              "      const buttonEl =\n",
              "        document.querySelector('#df-aef06cf9-9bc2-40b9-8d1a-1cc0ba57ff8d button.colab-df-convert');\n",
              "      buttonEl.style.display =\n",
              "        google.colab.kernel.accessAllowed ? 'block' : 'none';\n",
              "\n",
              "      async function convertToInteractive(key) {\n",
              "        const element = document.querySelector('#df-aef06cf9-9bc2-40b9-8d1a-1cc0ba57ff8d');\n",
              "        const dataTable =\n",
              "          await google.colab.kernel.invokeFunction('convertToInteractive',\n",
              "                                                    [key], {});\n",
              "        if (!dataTable) return;\n",
              "\n",
              "        const docLinkHtml = 'Like what you see? Visit the ' +\n",
              "          '<a target=\"_blank\" href=https://colab.research.google.com/notebooks/data_table.ipynb>data table notebook</a>'\n",
              "          + ' to learn more about interactive tables.';\n",
              "        element.innerHTML = '';\n",
              "        dataTable['output_type'] = 'display_data';\n",
              "        await google.colab.output.renderOutput(dataTable, element);\n",
              "        const docLink = document.createElement('div');\n",
              "        docLink.innerHTML = docLinkHtml;\n",
              "        element.appendChild(docLink);\n",
              "      }\n",
              "    </script>\n",
              "  </div>\n",
              "\n",
              "\n",
              "<div id=\"df-2b798481-bd7c-4dc3-b24b-e85ef7c93eb1\">\n",
              "  <button class=\"colab-df-quickchart\" onclick=\"quickchart('df-2b798481-bd7c-4dc3-b24b-e85ef7c93eb1')\"\n",
              "            title=\"Suggest charts.\"\n",
              "            style=\"display:none;\">\n",
              "\n",
              "<svg xmlns=\"http://www.w3.org/2000/svg\" height=\"24px\"viewBox=\"0 0 24 24\"\n",
              "     width=\"24px\">\n",
              "    <g>\n",
              "        <path d=\"M19 3H5c-1.1 0-2 .9-2 2v14c0 1.1.9 2 2 2h14c1.1 0 2-.9 2-2V5c0-1.1-.9-2-2-2zM9 17H7v-7h2v7zm4 0h-2V7h2v10zm4 0h-2v-4h2v4z\"/>\n",
              "    </g>\n",
              "</svg>\n",
              "  </button>\n",
              "\n",
              "<style>\n",
              "  .colab-df-quickchart {\n",
              "      --bg-color: #E8F0FE;\n",
              "      --fill-color: #1967D2;\n",
              "      --hover-bg-color: #E2EBFA;\n",
              "      --hover-fill-color: #174EA6;\n",
              "      --disabled-fill-color: #AAA;\n",
              "      --disabled-bg-color: #DDD;\n",
              "  }\n",
              "\n",
              "  [theme=dark] .colab-df-quickchart {\n",
              "      --bg-color: #3B4455;\n",
              "      --fill-color: #D2E3FC;\n",
              "      --hover-bg-color: #434B5C;\n",
              "      --hover-fill-color: #FFFFFF;\n",
              "      --disabled-bg-color: #3B4455;\n",
              "      --disabled-fill-color: #666;\n",
              "  }\n",
              "\n",
              "  .colab-df-quickchart {\n",
              "    background-color: var(--bg-color);\n",
              "    border: none;\n",
              "    border-radius: 50%;\n",
              "    cursor: pointer;\n",
              "    display: none;\n",
              "    fill: var(--fill-color);\n",
              "    height: 32px;\n",
              "    padding: 0;\n",
              "    width: 32px;\n",
              "  }\n",
              "\n",
              "  .colab-df-quickchart:hover {\n",
              "    background-color: var(--hover-bg-color);\n",
              "    box-shadow: 0 1px 2px rgba(60, 64, 67, 0.3), 0 1px 3px 1px rgba(60, 64, 67, 0.15);\n",
              "    fill: var(--button-hover-fill-color);\n",
              "  }\n",
              "\n",
              "  .colab-df-quickchart-complete:disabled,\n",
              "  .colab-df-quickchart-complete:disabled:hover {\n",
              "    background-color: var(--disabled-bg-color);\n",
              "    fill: var(--disabled-fill-color);\n",
              "    box-shadow: none;\n",
              "  }\n",
              "\n",
              "  .colab-df-spinner {\n",
              "    border: 2px solid var(--fill-color);\n",
              "    border-color: transparent;\n",
              "    border-bottom-color: var(--fill-color);\n",
              "    animation:\n",
              "      spin 1s steps(1) infinite;\n",
              "  }\n",
              "\n",
              "  @keyframes spin {\n",
              "    0% {\n",
              "      border-color: transparent;\n",
              "      border-bottom-color: var(--fill-color);\n",
              "      border-left-color: var(--fill-color);\n",
              "    }\n",
              "    20% {\n",
              "      border-color: transparent;\n",
              "      border-left-color: var(--fill-color);\n",
              "      border-top-color: var(--fill-color);\n",
              "    }\n",
              "    30% {\n",
              "      border-color: transparent;\n",
              "      border-left-color: var(--fill-color);\n",
              "      border-top-color: var(--fill-color);\n",
              "      border-right-color: var(--fill-color);\n",
              "    }\n",
              "    40% {\n",
              "      border-color: transparent;\n",
              "      border-right-color: var(--fill-color);\n",
              "      border-top-color: var(--fill-color);\n",
              "    }\n",
              "    60% {\n",
              "      border-color: transparent;\n",
              "      border-right-color: var(--fill-color);\n",
              "    }\n",
              "    80% {\n",
              "      border-color: transparent;\n",
              "      border-right-color: var(--fill-color);\n",
              "      border-bottom-color: var(--fill-color);\n",
              "    }\n",
              "    90% {\n",
              "      border-color: transparent;\n",
              "      border-bottom-color: var(--fill-color);\n",
              "    }\n",
              "  }\n",
              "</style>\n",
              "\n",
              "  <script>\n",
              "    async function quickchart(key) {\n",
              "      const quickchartButtonEl =\n",
              "        document.querySelector('#' + key + ' button');\n",
              "      quickchartButtonEl.disabled = true;  // To prevent multiple clicks.\n",
              "      quickchartButtonEl.classList.add('colab-df-spinner');\n",
              "      try {\n",
              "        const charts = await google.colab.kernel.invokeFunction(\n",
              "            'suggestCharts', [key], {});\n",
              "      } catch (error) {\n",
              "        console.error('Error during call to suggestCharts:', error);\n",
              "      }\n",
              "      quickchartButtonEl.classList.remove('colab-df-spinner');\n",
              "      quickchartButtonEl.classList.add('colab-df-quickchart-complete');\n",
              "    }\n",
              "    (() => {\n",
              "      let quickchartButtonEl =\n",
              "        document.querySelector('#df-2b798481-bd7c-4dc3-b24b-e85ef7c93eb1 button');\n",
              "      quickchartButtonEl.style.display =\n",
              "        google.colab.kernel.accessAllowed ? 'block' : 'none';\n",
              "    })();\n",
              "  </script>\n",
              "</div>\n",
              "    </div>\n",
              "  </div>\n"
            ]
          },
          "metadata": {},
          "execution_count": 38
        }
      ]
    },
    {
      "cell_type": "code",
      "source": [
        "df1.groupby(by='season')['windspeed'].describe()"
      ],
      "metadata": {
        "colab": {
          "base_uri": "https://localhost:8080/",
          "height": 206
        },
        "id": "knupH-mbTqaW",
        "outputId": "102e66a6-7b18-493d-d49c-c383692ea23b"
      },
      "execution_count": null,
      "outputs": [
        {
          "output_type": "execute_result",
          "data": {
            "text/plain": [
              "         count       mean       std  min     25%      50%      75%      max\n",
              "season                                                                     \n",
              "fall    2733.0  11.508862  7.160605  0.0  7.0015  11.0014  15.0013  56.9969\n",
              "spring  2686.0  14.636978  9.150257  0.0  7.0015  12.9980  19.9995  51.9987\n",
              "summer  2733.0  13.405607  7.992956  0.0  7.0015  12.9980  19.0012  47.9988\n",
              "winter  2734.0  11.678147  7.842632  0.0  7.0015  11.0014  16.9979  43.0006"
            ],
            "text/html": [
              "\n",
              "  <div id=\"df-f6e853ac-80b4-43b2-a4ba-e1776410262a\" class=\"colab-df-container\">\n",
              "    <div>\n",
              "<style scoped>\n",
              "    .dataframe tbody tr th:only-of-type {\n",
              "        vertical-align: middle;\n",
              "    }\n",
              "\n",
              "    .dataframe tbody tr th {\n",
              "        vertical-align: top;\n",
              "    }\n",
              "\n",
              "    .dataframe thead th {\n",
              "        text-align: right;\n",
              "    }\n",
              "</style>\n",
              "<table border=\"1\" class=\"dataframe\">\n",
              "  <thead>\n",
              "    <tr style=\"text-align: right;\">\n",
              "      <th></th>\n",
              "      <th>count</th>\n",
              "      <th>mean</th>\n",
              "      <th>std</th>\n",
              "      <th>min</th>\n",
              "      <th>25%</th>\n",
              "      <th>50%</th>\n",
              "      <th>75%</th>\n",
              "      <th>max</th>\n",
              "    </tr>\n",
              "    <tr>\n",
              "      <th>season</th>\n",
              "      <th></th>\n",
              "      <th></th>\n",
              "      <th></th>\n",
              "      <th></th>\n",
              "      <th></th>\n",
              "      <th></th>\n",
              "      <th></th>\n",
              "      <th></th>\n",
              "    </tr>\n",
              "  </thead>\n",
              "  <tbody>\n",
              "    <tr>\n",
              "      <th>fall</th>\n",
              "      <td>2733.0</td>\n",
              "      <td>11.508862</td>\n",
              "      <td>7.160605</td>\n",
              "      <td>0.0</td>\n",
              "      <td>7.0015</td>\n",
              "      <td>11.0014</td>\n",
              "      <td>15.0013</td>\n",
              "      <td>56.9969</td>\n",
              "    </tr>\n",
              "    <tr>\n",
              "      <th>spring</th>\n",
              "      <td>2686.0</td>\n",
              "      <td>14.636978</td>\n",
              "      <td>9.150257</td>\n",
              "      <td>0.0</td>\n",
              "      <td>7.0015</td>\n",
              "      <td>12.9980</td>\n",
              "      <td>19.9995</td>\n",
              "      <td>51.9987</td>\n",
              "    </tr>\n",
              "    <tr>\n",
              "      <th>summer</th>\n",
              "      <td>2733.0</td>\n",
              "      <td>13.405607</td>\n",
              "      <td>7.992956</td>\n",
              "      <td>0.0</td>\n",
              "      <td>7.0015</td>\n",
              "      <td>12.9980</td>\n",
              "      <td>19.0012</td>\n",
              "      <td>47.9988</td>\n",
              "    </tr>\n",
              "    <tr>\n",
              "      <th>winter</th>\n",
              "      <td>2734.0</td>\n",
              "      <td>11.678147</td>\n",
              "      <td>7.842632</td>\n",
              "      <td>0.0</td>\n",
              "      <td>7.0015</td>\n",
              "      <td>11.0014</td>\n",
              "      <td>16.9979</td>\n",
              "      <td>43.0006</td>\n",
              "    </tr>\n",
              "  </tbody>\n",
              "</table>\n",
              "</div>\n",
              "    <div class=\"colab-df-buttons\">\n",
              "\n",
              "  <div class=\"colab-df-container\">\n",
              "    <button class=\"colab-df-convert\" onclick=\"convertToInteractive('df-f6e853ac-80b4-43b2-a4ba-e1776410262a')\"\n",
              "            title=\"Convert this dataframe to an interactive table.\"\n",
              "            style=\"display:none;\">\n",
              "\n",
              "  <svg xmlns=\"http://www.w3.org/2000/svg\" height=\"24px\" viewBox=\"0 -960 960 960\">\n",
              "    <path d=\"M120-120v-720h720v720H120Zm60-500h600v-160H180v160Zm220 220h160v-160H400v160Zm0 220h160v-160H400v160ZM180-400h160v-160H180v160Zm440 0h160v-160H620v160ZM180-180h160v-160H180v160Zm440 0h160v-160H620v160Z\"/>\n",
              "  </svg>\n",
              "    </button>\n",
              "\n",
              "  <style>\n",
              "    .colab-df-container {\n",
              "      display:flex;\n",
              "      gap: 12px;\n",
              "    }\n",
              "\n",
              "    .colab-df-convert {\n",
              "      background-color: #E8F0FE;\n",
              "      border: none;\n",
              "      border-radius: 50%;\n",
              "      cursor: pointer;\n",
              "      display: none;\n",
              "      fill: #1967D2;\n",
              "      height: 32px;\n",
              "      padding: 0 0 0 0;\n",
              "      width: 32px;\n",
              "    }\n",
              "\n",
              "    .colab-df-convert:hover {\n",
              "      background-color: #E2EBFA;\n",
              "      box-shadow: 0px 1px 2px rgba(60, 64, 67, 0.3), 0px 1px 3px 1px rgba(60, 64, 67, 0.15);\n",
              "      fill: #174EA6;\n",
              "    }\n",
              "\n",
              "    .colab-df-buttons div {\n",
              "      margin-bottom: 4px;\n",
              "    }\n",
              "\n",
              "    [theme=dark] .colab-df-convert {\n",
              "      background-color: #3B4455;\n",
              "      fill: #D2E3FC;\n",
              "    }\n",
              "\n",
              "    [theme=dark] .colab-df-convert:hover {\n",
              "      background-color: #434B5C;\n",
              "      box-shadow: 0px 1px 3px 1px rgba(0, 0, 0, 0.15);\n",
              "      filter: drop-shadow(0px 1px 2px rgba(0, 0, 0, 0.3));\n",
              "      fill: #FFFFFF;\n",
              "    }\n",
              "  </style>\n",
              "\n",
              "    <script>\n",
              "      const buttonEl =\n",
              "        document.querySelector('#df-f6e853ac-80b4-43b2-a4ba-e1776410262a button.colab-df-convert');\n",
              "      buttonEl.style.display =\n",
              "        google.colab.kernel.accessAllowed ? 'block' : 'none';\n",
              "\n",
              "      async function convertToInteractive(key) {\n",
              "        const element = document.querySelector('#df-f6e853ac-80b4-43b2-a4ba-e1776410262a');\n",
              "        const dataTable =\n",
              "          await google.colab.kernel.invokeFunction('convertToInteractive',\n",
              "                                                    [key], {});\n",
              "        if (!dataTable) return;\n",
              "\n",
              "        const docLinkHtml = 'Like what you see? Visit the ' +\n",
              "          '<a target=\"_blank\" href=https://colab.research.google.com/notebooks/data_table.ipynb>data table notebook</a>'\n",
              "          + ' to learn more about interactive tables.';\n",
              "        element.innerHTML = '';\n",
              "        dataTable['output_type'] = 'display_data';\n",
              "        await google.colab.output.renderOutput(dataTable, element);\n",
              "        const docLink = document.createElement('div');\n",
              "        docLink.innerHTML = docLinkHtml;\n",
              "        element.appendChild(docLink);\n",
              "      }\n",
              "    </script>\n",
              "  </div>\n",
              "\n",
              "\n",
              "<div id=\"df-10de4e8f-9652-4732-976a-c949d6d4a82e\">\n",
              "  <button class=\"colab-df-quickchart\" onclick=\"quickchart('df-10de4e8f-9652-4732-976a-c949d6d4a82e')\"\n",
              "            title=\"Suggest charts.\"\n",
              "            style=\"display:none;\">\n",
              "\n",
              "<svg xmlns=\"http://www.w3.org/2000/svg\" height=\"24px\"viewBox=\"0 0 24 24\"\n",
              "     width=\"24px\">\n",
              "    <g>\n",
              "        <path d=\"M19 3H5c-1.1 0-2 .9-2 2v14c0 1.1.9 2 2 2h14c1.1 0 2-.9 2-2V5c0-1.1-.9-2-2-2zM9 17H7v-7h2v7zm4 0h-2V7h2v10zm4 0h-2v-4h2v4z\"/>\n",
              "    </g>\n",
              "</svg>\n",
              "  </button>\n",
              "\n",
              "<style>\n",
              "  .colab-df-quickchart {\n",
              "      --bg-color: #E8F0FE;\n",
              "      --fill-color: #1967D2;\n",
              "      --hover-bg-color: #E2EBFA;\n",
              "      --hover-fill-color: #174EA6;\n",
              "      --disabled-fill-color: #AAA;\n",
              "      --disabled-bg-color: #DDD;\n",
              "  }\n",
              "\n",
              "  [theme=dark] .colab-df-quickchart {\n",
              "      --bg-color: #3B4455;\n",
              "      --fill-color: #D2E3FC;\n",
              "      --hover-bg-color: #434B5C;\n",
              "      --hover-fill-color: #FFFFFF;\n",
              "      --disabled-bg-color: #3B4455;\n",
              "      --disabled-fill-color: #666;\n",
              "  }\n",
              "\n",
              "  .colab-df-quickchart {\n",
              "    background-color: var(--bg-color);\n",
              "    border: none;\n",
              "    border-radius: 50%;\n",
              "    cursor: pointer;\n",
              "    display: none;\n",
              "    fill: var(--fill-color);\n",
              "    height: 32px;\n",
              "    padding: 0;\n",
              "    width: 32px;\n",
              "  }\n",
              "\n",
              "  .colab-df-quickchart:hover {\n",
              "    background-color: var(--hover-bg-color);\n",
              "    box-shadow: 0 1px 2px rgba(60, 64, 67, 0.3), 0 1px 3px 1px rgba(60, 64, 67, 0.15);\n",
              "    fill: var(--button-hover-fill-color);\n",
              "  }\n",
              "\n",
              "  .colab-df-quickchart-complete:disabled,\n",
              "  .colab-df-quickchart-complete:disabled:hover {\n",
              "    background-color: var(--disabled-bg-color);\n",
              "    fill: var(--disabled-fill-color);\n",
              "    box-shadow: none;\n",
              "  }\n",
              "\n",
              "  .colab-df-spinner {\n",
              "    border: 2px solid var(--fill-color);\n",
              "    border-color: transparent;\n",
              "    border-bottom-color: var(--fill-color);\n",
              "    animation:\n",
              "      spin 1s steps(1) infinite;\n",
              "  }\n",
              "\n",
              "  @keyframes spin {\n",
              "    0% {\n",
              "      border-color: transparent;\n",
              "      border-bottom-color: var(--fill-color);\n",
              "      border-left-color: var(--fill-color);\n",
              "    }\n",
              "    20% {\n",
              "      border-color: transparent;\n",
              "      border-left-color: var(--fill-color);\n",
              "      border-top-color: var(--fill-color);\n",
              "    }\n",
              "    30% {\n",
              "      border-color: transparent;\n",
              "      border-left-color: var(--fill-color);\n",
              "      border-top-color: var(--fill-color);\n",
              "      border-right-color: var(--fill-color);\n",
              "    }\n",
              "    40% {\n",
              "      border-color: transparent;\n",
              "      border-right-color: var(--fill-color);\n",
              "      border-top-color: var(--fill-color);\n",
              "    }\n",
              "    60% {\n",
              "      border-color: transparent;\n",
              "      border-right-color: var(--fill-color);\n",
              "    }\n",
              "    80% {\n",
              "      border-color: transparent;\n",
              "      border-right-color: var(--fill-color);\n",
              "      border-bottom-color: var(--fill-color);\n",
              "    }\n",
              "    90% {\n",
              "      border-color: transparent;\n",
              "      border-bottom-color: var(--fill-color);\n",
              "    }\n",
              "  }\n",
              "</style>\n",
              "\n",
              "  <script>\n",
              "    async function quickchart(key) {\n",
              "      const quickchartButtonEl =\n",
              "        document.querySelector('#' + key + ' button');\n",
              "      quickchartButtonEl.disabled = true;  // To prevent multiple clicks.\n",
              "      quickchartButtonEl.classList.add('colab-df-spinner');\n",
              "      try {\n",
              "        const charts = await google.colab.kernel.invokeFunction(\n",
              "            'suggestCharts', [key], {});\n",
              "      } catch (error) {\n",
              "        console.error('Error during call to suggestCharts:', error);\n",
              "      }\n",
              "      quickchartButtonEl.classList.remove('colab-df-spinner');\n",
              "      quickchartButtonEl.classList.add('colab-df-quickchart-complete');\n",
              "    }\n",
              "    (() => {\n",
              "      let quickchartButtonEl =\n",
              "        document.querySelector('#df-10de4e8f-9652-4732-976a-c949d6d4a82e button');\n",
              "      quickchartButtonEl.style.display =\n",
              "        google.colab.kernel.accessAllowed ? 'block' : 'none';\n",
              "    })();\n",
              "  </script>\n",
              "</div>\n",
              "    </div>\n",
              "  </div>\n"
            ]
          },
          "metadata": {},
          "execution_count": 39
        }
      ]
    },
    {
      "cell_type": "code",
      "source": [
        "df1.groupby(by='season')['count'].describe()"
      ],
      "metadata": {
        "colab": {
          "base_uri": "https://localhost:8080/",
          "height": 206
        },
        "id": "61gTOe9tTyu2",
        "outputId": "6ec64536-2867-4512-b1e1-0a0accc71a98"
      },
      "execution_count": null,
      "outputs": [
        {
          "output_type": "execute_result",
          "data": {
            "text/plain": [
              "         count        mean         std  min   25%    50%    75%    max\n",
              "season                                                                \n",
              "fall    2733.0  234.417124  197.151001  1.0  68.0  195.0  347.0  977.0\n",
              "spring  2686.0  116.343261  125.273974  1.0  24.0   78.0  164.0  801.0\n",
              "summer  2733.0  215.251372  192.007843  1.0  49.0  172.0  321.0  873.0\n",
              "winter  2734.0  198.988296  177.622409  1.0  51.0  161.0  294.0  948.0"
            ],
            "text/html": [
              "\n",
              "  <div id=\"df-a7aa5df7-6844-4863-b89d-5391bfc3dc3d\" class=\"colab-df-container\">\n",
              "    <div>\n",
              "<style scoped>\n",
              "    .dataframe tbody tr th:only-of-type {\n",
              "        vertical-align: middle;\n",
              "    }\n",
              "\n",
              "    .dataframe tbody tr th {\n",
              "        vertical-align: top;\n",
              "    }\n",
              "\n",
              "    .dataframe thead th {\n",
              "        text-align: right;\n",
              "    }\n",
              "</style>\n",
              "<table border=\"1\" class=\"dataframe\">\n",
              "  <thead>\n",
              "    <tr style=\"text-align: right;\">\n",
              "      <th></th>\n",
              "      <th>count</th>\n",
              "      <th>mean</th>\n",
              "      <th>std</th>\n",
              "      <th>min</th>\n",
              "      <th>25%</th>\n",
              "      <th>50%</th>\n",
              "      <th>75%</th>\n",
              "      <th>max</th>\n",
              "    </tr>\n",
              "    <tr>\n",
              "      <th>season</th>\n",
              "      <th></th>\n",
              "      <th></th>\n",
              "      <th></th>\n",
              "      <th></th>\n",
              "      <th></th>\n",
              "      <th></th>\n",
              "      <th></th>\n",
              "      <th></th>\n",
              "    </tr>\n",
              "  </thead>\n",
              "  <tbody>\n",
              "    <tr>\n",
              "      <th>fall</th>\n",
              "      <td>2733.0</td>\n",
              "      <td>234.417124</td>\n",
              "      <td>197.151001</td>\n",
              "      <td>1.0</td>\n",
              "      <td>68.0</td>\n",
              "      <td>195.0</td>\n",
              "      <td>347.0</td>\n",
              "      <td>977.0</td>\n",
              "    </tr>\n",
              "    <tr>\n",
              "      <th>spring</th>\n",
              "      <td>2686.0</td>\n",
              "      <td>116.343261</td>\n",
              "      <td>125.273974</td>\n",
              "      <td>1.0</td>\n",
              "      <td>24.0</td>\n",
              "      <td>78.0</td>\n",
              "      <td>164.0</td>\n",
              "      <td>801.0</td>\n",
              "    </tr>\n",
              "    <tr>\n",
              "      <th>summer</th>\n",
              "      <td>2733.0</td>\n",
              "      <td>215.251372</td>\n",
              "      <td>192.007843</td>\n",
              "      <td>1.0</td>\n",
              "      <td>49.0</td>\n",
              "      <td>172.0</td>\n",
              "      <td>321.0</td>\n",
              "      <td>873.0</td>\n",
              "    </tr>\n",
              "    <tr>\n",
              "      <th>winter</th>\n",
              "      <td>2734.0</td>\n",
              "      <td>198.988296</td>\n",
              "      <td>177.622409</td>\n",
              "      <td>1.0</td>\n",
              "      <td>51.0</td>\n",
              "      <td>161.0</td>\n",
              "      <td>294.0</td>\n",
              "      <td>948.0</td>\n",
              "    </tr>\n",
              "  </tbody>\n",
              "</table>\n",
              "</div>\n",
              "    <div class=\"colab-df-buttons\">\n",
              "\n",
              "  <div class=\"colab-df-container\">\n",
              "    <button class=\"colab-df-convert\" onclick=\"convertToInteractive('df-a7aa5df7-6844-4863-b89d-5391bfc3dc3d')\"\n",
              "            title=\"Convert this dataframe to an interactive table.\"\n",
              "            style=\"display:none;\">\n",
              "\n",
              "  <svg xmlns=\"http://www.w3.org/2000/svg\" height=\"24px\" viewBox=\"0 -960 960 960\">\n",
              "    <path d=\"M120-120v-720h720v720H120Zm60-500h600v-160H180v160Zm220 220h160v-160H400v160Zm0 220h160v-160H400v160ZM180-400h160v-160H180v160Zm440 0h160v-160H620v160ZM180-180h160v-160H180v160Zm440 0h160v-160H620v160Z\"/>\n",
              "  </svg>\n",
              "    </button>\n",
              "\n",
              "  <style>\n",
              "    .colab-df-container {\n",
              "      display:flex;\n",
              "      gap: 12px;\n",
              "    }\n",
              "\n",
              "    .colab-df-convert {\n",
              "      background-color: #E8F0FE;\n",
              "      border: none;\n",
              "      border-radius: 50%;\n",
              "      cursor: pointer;\n",
              "      display: none;\n",
              "      fill: #1967D2;\n",
              "      height: 32px;\n",
              "      padding: 0 0 0 0;\n",
              "      width: 32px;\n",
              "    }\n",
              "\n",
              "    .colab-df-convert:hover {\n",
              "      background-color: #E2EBFA;\n",
              "      box-shadow: 0px 1px 2px rgba(60, 64, 67, 0.3), 0px 1px 3px 1px rgba(60, 64, 67, 0.15);\n",
              "      fill: #174EA6;\n",
              "    }\n",
              "\n",
              "    .colab-df-buttons div {\n",
              "      margin-bottom: 4px;\n",
              "    }\n",
              "\n",
              "    [theme=dark] .colab-df-convert {\n",
              "      background-color: #3B4455;\n",
              "      fill: #D2E3FC;\n",
              "    }\n",
              "\n",
              "    [theme=dark] .colab-df-convert:hover {\n",
              "      background-color: #434B5C;\n",
              "      box-shadow: 0px 1px 3px 1px rgba(0, 0, 0, 0.15);\n",
              "      filter: drop-shadow(0px 1px 2px rgba(0, 0, 0, 0.3));\n",
              "      fill: #FFFFFF;\n",
              "    }\n",
              "  </style>\n",
              "\n",
              "    <script>\n",
              "      const buttonEl =\n",
              "        document.querySelector('#df-a7aa5df7-6844-4863-b89d-5391bfc3dc3d button.colab-df-convert');\n",
              "      buttonEl.style.display =\n",
              "        google.colab.kernel.accessAllowed ? 'block' : 'none';\n",
              "\n",
              "      async function convertToInteractive(key) {\n",
              "        const element = document.querySelector('#df-a7aa5df7-6844-4863-b89d-5391bfc3dc3d');\n",
              "        const dataTable =\n",
              "          await google.colab.kernel.invokeFunction('convertToInteractive',\n",
              "                                                    [key], {});\n",
              "        if (!dataTable) return;\n",
              "\n",
              "        const docLinkHtml = 'Like what you see? Visit the ' +\n",
              "          '<a target=\"_blank\" href=https://colab.research.google.com/notebooks/data_table.ipynb>data table notebook</a>'\n",
              "          + ' to learn more about interactive tables.';\n",
              "        element.innerHTML = '';\n",
              "        dataTable['output_type'] = 'display_data';\n",
              "        await google.colab.output.renderOutput(dataTable, element);\n",
              "        const docLink = document.createElement('div');\n",
              "        docLink.innerHTML = docLinkHtml;\n",
              "        element.appendChild(docLink);\n",
              "      }\n",
              "    </script>\n",
              "  </div>\n",
              "\n",
              "\n",
              "<div id=\"df-3d9d7dfb-239a-4dca-865c-ca64b61e8906\">\n",
              "  <button class=\"colab-df-quickchart\" onclick=\"quickchart('df-3d9d7dfb-239a-4dca-865c-ca64b61e8906')\"\n",
              "            title=\"Suggest charts.\"\n",
              "            style=\"display:none;\">\n",
              "\n",
              "<svg xmlns=\"http://www.w3.org/2000/svg\" height=\"24px\"viewBox=\"0 0 24 24\"\n",
              "     width=\"24px\">\n",
              "    <g>\n",
              "        <path d=\"M19 3H5c-1.1 0-2 .9-2 2v14c0 1.1.9 2 2 2h14c1.1 0 2-.9 2-2V5c0-1.1-.9-2-2-2zM9 17H7v-7h2v7zm4 0h-2V7h2v10zm4 0h-2v-4h2v4z\"/>\n",
              "    </g>\n",
              "</svg>\n",
              "  </button>\n",
              "\n",
              "<style>\n",
              "  .colab-df-quickchart {\n",
              "      --bg-color: #E8F0FE;\n",
              "      --fill-color: #1967D2;\n",
              "      --hover-bg-color: #E2EBFA;\n",
              "      --hover-fill-color: #174EA6;\n",
              "      --disabled-fill-color: #AAA;\n",
              "      --disabled-bg-color: #DDD;\n",
              "  }\n",
              "\n",
              "  [theme=dark] .colab-df-quickchart {\n",
              "      --bg-color: #3B4455;\n",
              "      --fill-color: #D2E3FC;\n",
              "      --hover-bg-color: #434B5C;\n",
              "      --hover-fill-color: #FFFFFF;\n",
              "      --disabled-bg-color: #3B4455;\n",
              "      --disabled-fill-color: #666;\n",
              "  }\n",
              "\n",
              "  .colab-df-quickchart {\n",
              "    background-color: var(--bg-color);\n",
              "    border: none;\n",
              "    border-radius: 50%;\n",
              "    cursor: pointer;\n",
              "    display: none;\n",
              "    fill: var(--fill-color);\n",
              "    height: 32px;\n",
              "    padding: 0;\n",
              "    width: 32px;\n",
              "  }\n",
              "\n",
              "  .colab-df-quickchart:hover {\n",
              "    background-color: var(--hover-bg-color);\n",
              "    box-shadow: 0 1px 2px rgba(60, 64, 67, 0.3), 0 1px 3px 1px rgba(60, 64, 67, 0.15);\n",
              "    fill: var(--button-hover-fill-color);\n",
              "  }\n",
              "\n",
              "  .colab-df-quickchart-complete:disabled,\n",
              "  .colab-df-quickchart-complete:disabled:hover {\n",
              "    background-color: var(--disabled-bg-color);\n",
              "    fill: var(--disabled-fill-color);\n",
              "    box-shadow: none;\n",
              "  }\n",
              "\n",
              "  .colab-df-spinner {\n",
              "    border: 2px solid var(--fill-color);\n",
              "    border-color: transparent;\n",
              "    border-bottom-color: var(--fill-color);\n",
              "    animation:\n",
              "      spin 1s steps(1) infinite;\n",
              "  }\n",
              "\n",
              "  @keyframes spin {\n",
              "    0% {\n",
              "      border-color: transparent;\n",
              "      border-bottom-color: var(--fill-color);\n",
              "      border-left-color: var(--fill-color);\n",
              "    }\n",
              "    20% {\n",
              "      border-color: transparent;\n",
              "      border-left-color: var(--fill-color);\n",
              "      border-top-color: var(--fill-color);\n",
              "    }\n",
              "    30% {\n",
              "      border-color: transparent;\n",
              "      border-left-color: var(--fill-color);\n",
              "      border-top-color: var(--fill-color);\n",
              "      border-right-color: var(--fill-color);\n",
              "    }\n",
              "    40% {\n",
              "      border-color: transparent;\n",
              "      border-right-color: var(--fill-color);\n",
              "      border-top-color: var(--fill-color);\n",
              "    }\n",
              "    60% {\n",
              "      border-color: transparent;\n",
              "      border-right-color: var(--fill-color);\n",
              "    }\n",
              "    80% {\n",
              "      border-color: transparent;\n",
              "      border-right-color: var(--fill-color);\n",
              "      border-bottom-color: var(--fill-color);\n",
              "    }\n",
              "    90% {\n",
              "      border-color: transparent;\n",
              "      border-bottom-color: var(--fill-color);\n",
              "    }\n",
              "  }\n",
              "</style>\n",
              "\n",
              "  <script>\n",
              "    async function quickchart(key) {\n",
              "      const quickchartButtonEl =\n",
              "        document.querySelector('#' + key + ' button');\n",
              "      quickchartButtonEl.disabled = true;  // To prevent multiple clicks.\n",
              "      quickchartButtonEl.classList.add('colab-df-spinner');\n",
              "      try {\n",
              "        const charts = await google.colab.kernel.invokeFunction(\n",
              "            'suggestCharts', [key], {});\n",
              "      } catch (error) {\n",
              "        console.error('Error during call to suggestCharts:', error);\n",
              "      }\n",
              "      quickchartButtonEl.classList.remove('colab-df-spinner');\n",
              "      quickchartButtonEl.classList.add('colab-df-quickchart-complete');\n",
              "    }\n",
              "    (() => {\n",
              "      let quickchartButtonEl =\n",
              "        document.querySelector('#df-3d9d7dfb-239a-4dca-865c-ca64b61e8906 button');\n",
              "      quickchartButtonEl.style.display =\n",
              "        google.colab.kernel.accessAllowed ? 'block' : 'none';\n",
              "    })();\n",
              "  </script>\n",
              "</div>\n",
              "    </div>\n",
              "  </div>\n"
            ]
          },
          "metadata": {},
          "execution_count": 40
        }
      ]
    },
    {
      "cell_type": "code",
      "source": [
        "df1.groupby(by='weather')['temp'].mean()"
      ],
      "metadata": {
        "colab": {
          "base_uri": "https://localhost:8080/"
        },
        "id": "T2f4hCIAT_uG",
        "outputId": "95f40661-e3cd-4e21-e657-b5f586a53a7b"
      },
      "execution_count": null,
      "outputs": [
        {
          "output_type": "execute_result",
          "data": {
            "text/plain": [
              "weather\n",
              "Clear, Few clouds, partly cloudy                                                           20.557122\n",
              "Heavy Rain + Ice Pallets + Thunderstorm + Mist, Snow + Fog                                  8.200000\n",
              "Light Snow, Light Rain + Thunderstorm + Scattered clouds, Light Rain + Scattered clouds    19.546356\n",
              "Mist + Cloudy, Mist + Broken clouds, Mist + Few clouds, Mist                               19.614608\n",
              "Name: temp, dtype: float64"
            ]
          },
          "metadata": {},
          "execution_count": 41
        }
      ]
    },
    {
      "cell_type": "code",
      "source": [
        "df1.groupby(by='weather')['atemp'].mean()"
      ],
      "metadata": {
        "colab": {
          "base_uri": "https://localhost:8080/"
        },
        "id": "jU8wJT7mUhkv",
        "outputId": "15b92c89-7cc0-4f6d-cf02-73d58a8bc138"
      },
      "execution_count": null,
      "outputs": [
        {
          "output_type": "execute_result",
          "data": {
            "text/plain": [
              "weather\n",
              "Clear, Few clouds, partly cloudy                                                           23.994126\n",
              "Heavy Rain + Ice Pallets + Thunderstorm + Mist, Snow + Fog                                 11.365000\n",
              "Light Snow, Light Rain + Thunderstorm + Scattered clouds, Light Rain + Scattered clouds    22.753091\n",
              "Mist + Cloudy, Mist + Broken clouds, Mist + Few clouds, Mist                               23.072414\n",
              "Name: atemp, dtype: float64"
            ]
          },
          "metadata": {},
          "execution_count": 42
        }
      ]
    },
    {
      "cell_type": "code",
      "source": [
        "df1.groupby(by='weather')['windspeed'].mean()"
      ],
      "metadata": {
        "colab": {
          "base_uri": "https://localhost:8080/"
        },
        "id": "e62l-FNGlg-R",
        "outputId": "c310f3c3-3436-4b20-fe4b-4040dbc12de7"
      },
      "execution_count": null,
      "outputs": [
        {
          "output_type": "execute_result",
          "data": {
            "text/plain": [
              "weather\n",
              "Clear, Few clouds, partly cloudy                                                           12.892542\n",
              "Heavy Rain + Ice Pallets + Thunderstorm + Mist, Snow + Fog                                  6.003200\n",
              "Light Snow, Light Rain + Thunderstorm + Scattered clouds, Light Rain + Scattered clouds    14.071248\n",
              "Mist + Cloudy, Mist + Broken clouds, Mist + Few clouds, Mist                               12.179905\n",
              "Name: windspeed, dtype: float64"
            ]
          },
          "metadata": {},
          "execution_count": 43
        }
      ]
    },
    {
      "cell_type": "code",
      "source": [
        "df1.groupby(by='weather')['humidity'].mean()"
      ],
      "metadata": {
        "colab": {
          "base_uri": "https://localhost:8080/"
        },
        "id": "IKStWJVMlmOg",
        "outputId": "c69455e4-a6d6-4c41-e5c6-27c1c692526c"
      },
      "execution_count": null,
      "outputs": [
        {
          "output_type": "execute_result",
          "data": {
            "text/plain": [
              "weather\n",
              "Clear, Few clouds, partly cloudy                                                           56.716769\n",
              "Heavy Rain + Ice Pallets + Thunderstorm + Mist, Snow + Fog                                 86.000000\n",
              "Light Snow, Light Rain + Thunderstorm + Scattered clouds, Light Rain + Scattered clouds    81.341094\n",
              "Mist + Cloudy, Mist + Broken clouds, Mist + Few clouds, Mist                               69.100565\n",
              "Name: humidity, dtype: float64"
            ]
          },
          "metadata": {},
          "execution_count": 44
        }
      ]
    },
    {
      "cell_type": "code",
      "source": [
        "bins = [0, 10, 20, 30, 40, 50]\n",
        "labels = ['extreme_cold', 'cold', 'moderate', 'hot', 'extreme_hot']\n",
        "df['temp_bin'] = pd.cut(df1['temp'], bins=bins, labels=labels)\n",
        "df.groupby(by='temp_bin')['count'].sum().sort_values(ascending=False)"
      ],
      "metadata": {
        "colab": {
          "base_uri": "https://localhost:8080/"
        },
        "id": "zXbFTCn2V8Z4",
        "outputId": "75258022-a64f-47b4-9683-e505bf9622c3"
      },
      "execution_count": null,
      "outputs": [
        {
          "output_type": "execute_result",
          "data": {
            "text/plain": [
              "temp_bin\n",
              "moderate        968265\n",
              "cold            609233\n",
              "hot             415543\n",
              "extreme_cold     92141\n",
              "extreme_hot        294\n",
              "Name: count, dtype: int64"
            ]
          },
          "metadata": {},
          "execution_count": 45
        }
      ]
    },
    {
      "cell_type": "code",
      "source": [
        "df1.groupby(by='temp_bin')['registered'].sum().sort_values(ascending=False)"
      ],
      "metadata": {
        "colab": {
          "base_uri": "https://localhost:8080/",
          "height": 338
        },
        "id": "Qm15qooXWRgA",
        "outputId": "70351a4a-7540-42c7-91e5-ad261b3baaa9"
      },
      "execution_count": null,
      "outputs": [
        {
          "output_type": "error",
          "ename": "KeyError",
          "evalue": "ignored",
          "traceback": [
            "\u001b[0;31m---------------------------------------------------------------------------\u001b[0m",
            "\u001b[0;31mKeyError\u001b[0m                                  Traceback (most recent call last)",
            "\u001b[0;32m<ipython-input-46-f6b8359a5c27>\u001b[0m in \u001b[0;36m<cell line: 1>\u001b[0;34m()\u001b[0m\n\u001b[0;32m----> 1\u001b[0;31m \u001b[0mdf1\u001b[0m\u001b[0;34m.\u001b[0m\u001b[0mgroupby\u001b[0m\u001b[0;34m(\u001b[0m\u001b[0mby\u001b[0m\u001b[0;34m=\u001b[0m\u001b[0;34m'temp_bin'\u001b[0m\u001b[0;34m)\u001b[0m\u001b[0;34m[\u001b[0m\u001b[0;34m'registered'\u001b[0m\u001b[0;34m]\u001b[0m\u001b[0;34m.\u001b[0m\u001b[0msum\u001b[0m\u001b[0;34m(\u001b[0m\u001b[0;34m)\u001b[0m\u001b[0;34m.\u001b[0m\u001b[0msort_values\u001b[0m\u001b[0;34m(\u001b[0m\u001b[0mascending\u001b[0m\u001b[0;34m=\u001b[0m\u001b[0;32mFalse\u001b[0m\u001b[0;34m)\u001b[0m\u001b[0;34m\u001b[0m\u001b[0;34m\u001b[0m\u001b[0m\n\u001b[0m",
            "\u001b[0;32m/usr/local/lib/python3.10/dist-packages/pandas/core/frame.py\u001b[0m in \u001b[0;36mgroupby\u001b[0;34m(self, by, axis, level, as_index, sort, group_keys, squeeze, observed, dropna)\u001b[0m\n\u001b[1;32m   8400\u001b[0m         \u001b[0maxis\u001b[0m \u001b[0;34m=\u001b[0m \u001b[0mself\u001b[0m\u001b[0;34m.\u001b[0m\u001b[0m_get_axis_number\u001b[0m\u001b[0;34m(\u001b[0m\u001b[0maxis\u001b[0m\u001b[0;34m)\u001b[0m\u001b[0;34m\u001b[0m\u001b[0;34m\u001b[0m\u001b[0m\n\u001b[1;32m   8401\u001b[0m \u001b[0;34m\u001b[0m\u001b[0m\n\u001b[0;32m-> 8402\u001b[0;31m         return DataFrameGroupBy(\n\u001b[0m\u001b[1;32m   8403\u001b[0m             \u001b[0mobj\u001b[0m\u001b[0;34m=\u001b[0m\u001b[0mself\u001b[0m\u001b[0;34m,\u001b[0m\u001b[0;34m\u001b[0m\u001b[0;34m\u001b[0m\u001b[0m\n\u001b[1;32m   8404\u001b[0m             \u001b[0mkeys\u001b[0m\u001b[0;34m=\u001b[0m\u001b[0mby\u001b[0m\u001b[0;34m,\u001b[0m\u001b[0;34m\u001b[0m\u001b[0;34m\u001b[0m\u001b[0m\n",
            "\u001b[0;32m/usr/local/lib/python3.10/dist-packages/pandas/core/groupby/groupby.py\u001b[0m in \u001b[0;36m__init__\u001b[0;34m(self, obj, keys, axis, level, grouper, exclusions, selection, as_index, sort, group_keys, squeeze, observed, mutated, dropna)\u001b[0m\n\u001b[1;32m    963\u001b[0m             \u001b[0;32mfrom\u001b[0m \u001b[0mpandas\u001b[0m\u001b[0;34m.\u001b[0m\u001b[0mcore\u001b[0m\u001b[0;34m.\u001b[0m\u001b[0mgroupby\u001b[0m\u001b[0;34m.\u001b[0m\u001b[0mgrouper\u001b[0m \u001b[0;32mimport\u001b[0m \u001b[0mget_grouper\u001b[0m\u001b[0;34m\u001b[0m\u001b[0;34m\u001b[0m\u001b[0m\n\u001b[1;32m    964\u001b[0m \u001b[0;34m\u001b[0m\u001b[0m\n\u001b[0;32m--> 965\u001b[0;31m             grouper, exclusions, obj = get_grouper(\n\u001b[0m\u001b[1;32m    966\u001b[0m                 \u001b[0mobj\u001b[0m\u001b[0;34m,\u001b[0m\u001b[0;34m\u001b[0m\u001b[0;34m\u001b[0m\u001b[0m\n\u001b[1;32m    967\u001b[0m                 \u001b[0mkeys\u001b[0m\u001b[0;34m,\u001b[0m\u001b[0;34m\u001b[0m\u001b[0;34m\u001b[0m\u001b[0m\n",
            "\u001b[0;32m/usr/local/lib/python3.10/dist-packages/pandas/core/groupby/grouper.py\u001b[0m in \u001b[0;36mget_grouper\u001b[0;34m(obj, key, axis, level, sort, observed, mutated, validate, dropna)\u001b[0m\n\u001b[1;32m    886\u001b[0m                 \u001b[0min_axis\u001b[0m\u001b[0;34m,\u001b[0m \u001b[0mlevel\u001b[0m\u001b[0;34m,\u001b[0m \u001b[0mgpr\u001b[0m \u001b[0;34m=\u001b[0m \u001b[0;32mFalse\u001b[0m\u001b[0;34m,\u001b[0m \u001b[0mgpr\u001b[0m\u001b[0;34m,\u001b[0m \u001b[0;32mNone\u001b[0m\u001b[0;34m\u001b[0m\u001b[0;34m\u001b[0m\u001b[0m\n\u001b[1;32m    887\u001b[0m             \u001b[0;32melse\u001b[0m\u001b[0;34m:\u001b[0m\u001b[0;34m\u001b[0m\u001b[0;34m\u001b[0m\u001b[0m\n\u001b[0;32m--> 888\u001b[0;31m                 \u001b[0;32mraise\u001b[0m \u001b[0mKeyError\u001b[0m\u001b[0;34m(\u001b[0m\u001b[0mgpr\u001b[0m\u001b[0;34m)\u001b[0m\u001b[0;34m\u001b[0m\u001b[0;34m\u001b[0m\u001b[0m\n\u001b[0m\u001b[1;32m    889\u001b[0m         \u001b[0;32melif\u001b[0m \u001b[0misinstance\u001b[0m\u001b[0;34m(\u001b[0m\u001b[0mgpr\u001b[0m\u001b[0;34m,\u001b[0m \u001b[0mGrouper\u001b[0m\u001b[0;34m)\u001b[0m \u001b[0;32mand\u001b[0m \u001b[0mgpr\u001b[0m\u001b[0;34m.\u001b[0m\u001b[0mkey\u001b[0m \u001b[0;32mis\u001b[0m \u001b[0;32mnot\u001b[0m \u001b[0;32mNone\u001b[0m\u001b[0;34m:\u001b[0m\u001b[0;34m\u001b[0m\u001b[0;34m\u001b[0m\u001b[0m\n\u001b[1;32m    890\u001b[0m             \u001b[0;31m# Add key to exclusions\u001b[0m\u001b[0;34m\u001b[0m\u001b[0;34m\u001b[0m\u001b[0m\n",
            "\u001b[0;31mKeyError\u001b[0m: 'temp_bin'"
          ]
        }
      ]
    },
    {
      "cell_type": "markdown",
      "source": [
        "##Corelation"
      ],
      "metadata": {
        "id": "VNkiSMxsWeQS"
      }
    },
    {
      "cell_type": "code",
      "source": [
        "df1.hist(bins=20,figsize=(20,15),color='grey')\n",
        "plt.show()"
      ],
      "metadata": {
        "id": "yjnpURwzknnc"
      },
      "execution_count": null,
      "outputs": []
    },
    {
      "cell_type": "code",
      "source": [
        "plt.figure(figsize=(22,9))\n",
        "sns.heatmap(df1.corr(), annot=True, xticklabels=1, yticklabels=1)\n",
        "plt.show()"
      ],
      "metadata": {
        "id": "g0rgIGjSWhHF"
      },
      "execution_count": null,
      "outputs": []
    },
    {
      "cell_type": "markdown",
      "source": [
        "#Hypothesis Testing"
      ],
      "metadata": {
        "id": "gZ-77ODnq3E5"
      }
    },
    {
      "cell_type": "markdown",
      "source": [
        "##2- Sample T-Test"
      ],
      "metadata": {
        "id": "CCdjod3Pq-Ei"
      }
    },
    {
      "cell_type": "code",
      "source": [
        "#Visual Analysis:\n",
        "# Distribution of the number of electric cycles rented on working days and non-working days.\n",
        "\n",
        "# Visual analysis - Barplot of 'workingday' vs 'count'\n",
        "plt.figure(figsize=(6, 4))\n",
        "sns.barplot(data=df1, x='workingday', y='count')\n",
        "plt.title('Working Day vs. Electric Cycle Rentals')\n",
        "plt.xlabel('Working Day')\n",
        "plt.ylabel('Number of Electric Cycle Rentals')\n",
        "plt.show()"
      ],
      "metadata": {
        "id": "sj6q-IxYrHJM"
      },
      "execution_count": null,
      "outputs": []
    },
    {
      "cell_type": "markdown",
      "source": [
        "###Validating Test Assumption"
      ],
      "metadata": {
        "id": "nxl-y_k33Vkz"
      }
    },
    {
      "cell_type": "markdown",
      "source": [
        "Hypothesis Formulation:\n",
        "\n",
        "Null Hypothesis (H0): The average number of electric cycles rented on working days is equal to the average number of electric cycles rented on non-working days.\n",
        "\n",
        "Alternative Hypothesis (Ha): The average number of electric cycles rented on working days is different from the average number of electric cycles rented on non-working days."
      ],
      "metadata": {
        "id": "XQC3cE7QrjYr"
      }
    },
    {
      "cell_type": "markdown",
      "source": [
        "Appropriate Test:\n",
        "We will use a 2-sample independent t-test to compare the means of the two groups (working days and non-working days) to determine if there is a significant difference in the average number of electric cycles rented."
      ],
      "metadata": {
        "id": "HgKJZhLYrwvI"
      }
    },
    {
      "cell_type": "markdown",
      "source": [
        "Test Assumptions:\n",
        "\n",
        "Independence: The samples for working days and non-working days are assumed to be independent.\n",
        "\n",
        "Normality: The data for both groups should approximately follow a normal distribution.\n",
        "\n",
        "Equal Variance: The variance of the two groups should be approximately equal."
      ],
      "metadata": {
        "id": "DR0cndcirxnc"
      }
    },
    {
      "cell_type": "code",
      "source": [
        "from scipy.stats import shapiro, levene\n",
        "\n",
        "# Separate data for working days and non-working days\n",
        "workingday_data = df[df['workingday'] == 1]['count']\n",
        "non_workingday_data = df[df['workingday'] == 0]['count']\n",
        "\n",
        "# Check Normality using Shapiro-Wilk test\n",
        "_, p_value_wd = shapiro(workingday_data)\n",
        "_, p_value_nwd = shapiro(non_workingday_data)\n",
        "\n",
        "print(\"Shapiro-Wilk Normality Test - Working Day:\")\n",
        "print(\"P-Value:\", p_value_wd)\n",
        "\n",
        "print(\"\\nShapiro-Wilk Normality Test - Non-Working Day:\")\n",
        "print(\"P-Value:\", p_value_nwd)\n",
        "\n",
        "# Check Equal Variance using Levene's test\n",
        "_, p_value_levene = levene(workingday_data, non_workingday_data)\n",
        "\n",
        "print(\"\\nLevene's Test Result:\")\n",
        "print(\"P-Value:\", p_value_levene)"
      ],
      "metadata": {
        "id": "k9LbAszzr2og"
      },
      "execution_count": null,
      "outputs": []
    },
    {
      "cell_type": "markdown",
      "source": [
        "**Conclution of Shapiro-Wilk normality test :**\n",
        "\n",
        "Null Hypothesis (Ho)=the sample comes from a normal distribution\n",
        "\n",
        "Alternate hypothesis(Ha)=the sample does not comes from a normal distribution\n",
        "\n",
        "Since P value (4.20e-45) < 0.05, 95% Significance level,\n",
        "We reject the Null hypothesis and accept the alternate hypothesis i.e.\n",
        "\n",
        "**These two samples are not from normal drstibution**"
      ],
      "metadata": {
        "id": "t88dqMIJ1CkY"
      }
    },
    {
      "cell_type": "markdown",
      "source": [
        "**Conclution of Levene's test of Variance:**\n",
        "\n",
        "Null Hypothesis(H0) - Homogenous Variance\n",
        "\n",
        "Alternate Hypothesis(HA) - Non Homogenous variance\n",
        "\n",
        "Since P value (0.94) > 0.05, Signoficance level\n",
        "We fail to reject Null hypothesis.\n",
        "\n",
        "**Variance of these two samples is similar**"
      ],
      "metadata": {
        "id": "WXWfF9V4nNXa"
      }
    },
    {
      "cell_type": "code",
      "source": [
        "#2-sample t-test\n",
        "t_statistic, p_value = ttest_ind(workingday_data, non_workingday_data)\n",
        "\n",
        "print(\"T-Test Results:\")\n",
        "print(\"T-Statistic:\", t_statistic)\n",
        "print(\"P-Value:\", p_value)"
      ],
      "metadata": {
        "id": "7U8Cnwi0nB_o"
      },
      "execution_count": null,
      "outputs": []
    },
    {
      "cell_type": "markdown",
      "source": [
        "**Conclution of 2sample T test**\n",
        "\n",
        "Null Hypothesis (H0): The average number of electric cycles rented on working days is equal to the average number of electric cycles rented on non-working days.\n",
        "\n",
        "Alternative Hypothesis (Ha): The average number of electric cycles rented on working days is different from the average number of electric cycles rented on non-working days.\n",
        "\n",
        "Since the P Value(0.22) > Significance level = 0.05,\n",
        "\n",
        "**We Fail to reject the Null Hypothesis**"
      ],
      "metadata": {
        "id": "ObRxfHED4LIk"
      }
    },
    {
      "cell_type": "markdown",
      "source": [
        "##ANOVA"
      ],
      "metadata": {
        "id": "dPxe1XVy92jp"
      }
    },
    {
      "cell_type": "markdown",
      "source": [
        "###Anova for Weather"
      ],
      "metadata": {
        "id": "hjlOuV1OIMeB"
      }
    },
    {
      "cell_type": "markdown",
      "source": [
        "ANOVA for Weather:\n",
        "\n",
        "Null Hypothesis (H0): The mean number of electric cycles rented is the same across different weather conditions.\n",
        "\n",
        "H0: μ_weather1 = μ_weather2 = μ_weather3 = μ_weather4\n",
        "\n",
        "Alternative Hypothesis (Ha): The mean number of electric cycles rented is different for at least one pair of weather conditions.\n",
        "\n",
        "Ha: At least one of the weather condition means is different from the others.\n"
      ],
      "metadata": {
        "id": "LnXZBXUz97GR"
      }
    },
    {
      "cell_type": "markdown",
      "source": [
        "####Validating Test assumptions"
      ],
      "metadata": {
        "id": "caCZRnP1-lHN"
      }
    },
    {
      "cell_type": "markdown",
      "source": [
        "**Assumptions for ANOVA:**\n",
        "\n",
        "Independence: The samples for each category (weather and season) are assumed to be independent.\n",
        "\n",
        "Normality: The data for each category should approximately follow a normal distribution.\n",
        "\n",
        "Homogeneity of Variance: The variance of the number of cycles rented should be approximately equal across different categories (weather and season)."
      ],
      "metadata": {
        "id": "mNGl99tA-tdG"
      }
    },
    {
      "cell_type": "code",
      "source": [
        "import seaborn as sns\n",
        "from scipy.stats import f_oneway, shapiro, levene\n",
        "\n",
        "# Check Normality for each weather condition\n",
        "for weather_condition in df['weather'].unique():\n",
        "    data = df[df['weather'] == weather_condition]['count']\n",
        "    if len(data) >= 3:\n",
        "        _, p_value = shapiro(data)\n",
        "        print(f\"Shapiro-Wilk Normality Test - Weather {weather_condition}:\")\n",
        "        print(\"P-Value:\", p_value)\n",
        "    else:\n",
        "        print(f\"Insufficient data points for Weather {weather_condition}. Skipping Shapiro-Wilk test.\")\n",
        "\n",
        "    # Visualization - Histogram for each weather condition\n",
        "    plt.figure()\n",
        "    sns.histplot(data, kde=True)\n",
        "    plt.title(f'Histogram - Weather {weather_condition}')\n",
        "    plt.xlabel('Number of Electric Cycles Rented')\n",
        "    plt.show()\n"
      ],
      "metadata": {
        "id": "dU0Zatuh_al7"
      },
      "execution_count": null,
      "outputs": []
    },
    {
      "cell_type": "markdown",
      "source": [
        "**Conclusion of Shapiro-Wilk Normality test:**\n",
        "\n",
        "Null Hypothesis (Ho)=the sample comes from a normal distribution\n",
        "\n",
        "Alternate hypothesis(Ha)=the sample does not comes from a normal distribution\n",
        "\n",
        "Since p-values from the Shapiro-Wilk test << α (α = 0.05) for weather, we reject the null hypothesis and conclude\n",
        "\n",
        "**These sample does not comes from normal dristribution**"
      ],
      "metadata": {
        "id": "18LibWZEIANw"
      }
    },
    {
      "cell_type": "code",
      "source": [
        "# Check Equal Variance using Levene's test for Weather\n",
        "weather_data = [df[df['weather'] == weather_condition]['count'] for weather_condition in df['weather'].unique()]\n",
        "_, p_value_weather = levene(*weather_data)\n",
        "\n",
        "print(\"\\nLevene's Test Result - Weather:\")\n",
        "print(\"P-Value:\", p_value_weather)"
      ],
      "metadata": {
        "id": "KarARLt9H_PX"
      },
      "execution_count": null,
      "outputs": []
    },
    {
      "cell_type": "markdown",
      "source": [
        "**Conclution of Levene's test of Variance:**\n",
        "\n",
        "Null Hypothesis(H0) - Homogenous Variance\n",
        "\n",
        "Alternate Hypothesis(HA) - Non Homogenous variance\n",
        "\n",
        "Since P value (3.50e-35) < 0.05, Signoficance level\n",
        "We reject Null hypothesis."
      ],
      "metadata": {
        "id": "69CJ9gJpKaMS"
      }
    },
    {
      "cell_type": "code",
      "source": [
        "# ANOVA for Weather\n",
        "from scipy.stats import f_oneway\n",
        "import scipy.stats as stats\n",
        "\n",
        "weather1 = df[df['weather']==1]['count']\n",
        "weather2 = df[df['weather']==2]['count']\n",
        "weather3 = df[df['weather']==3]['count']\n",
        "\n",
        "stat,p = stats.f_oneway(weather1, weather2, weather3)\n",
        "print('P-value :',p)"
      ],
      "metadata": {
        "id": "amOzCoJVMmPX"
      },
      "execution_count": null,
      "outputs": []
    },
    {
      "cell_type": "markdown",
      "source": [
        "**Conclusion of Anova for weather:**\n",
        "\n",
        "Null Hypothesis (H0): The mean number of electric cycles rented is the same across different weather conditions.\n",
        "\n",
        "H0: μ_weather1 = μ_weather2 = μ_weather3 = μ_weather4\n",
        "\n",
        "Alternative Hypothesis (Ha): The mean number of electric cycles rented is different for at least one pair of weather conditions.\n",
        "\n",
        "Ha: At least one of the weather condition means is different from the others.\n",
        "Since the P Value(4.97e-43) << Significance level = 0.05,\n",
        "\n",
        "**We reject the Null Hypothesis**\n",
        "\n",
        "**We reject null hypothesis, which means the number of electric cycles rented on different weather are different**"
      ],
      "metadata": {
        "id": "QsR1IligOQjw"
      }
    },
    {
      "cell_type": "markdown",
      "source": [
        "###Anova for Season"
      ],
      "metadata": {
        "id": "4PseDyAlLB-p"
      }
    },
    {
      "cell_type": "markdown",
      "source": [
        "Null Hypothesis (H0): The mean number of electric cycles rented is the same across different seasons.\n",
        "\n",
        "H0: μ_season1 = μ_season2 = μ_season3 = μ_season4\n",
        "\n",
        "Alternative Hypothesis (Ha): The mean number of electric cycles rented is different for at least one pair of seasons.\n",
        "\n",
        "Ha: At least one of the season means is different from the others."
      ],
      "metadata": {
        "id": "ROKcdFIiLSrg"
      }
    },
    {
      "cell_type": "markdown",
      "source": [
        "####Validating Test assumptions"
      ],
      "metadata": {
        "id": "DJna9J0MLqmt"
      }
    },
    {
      "cell_type": "markdown",
      "source": [
        "**Assumptions for ANOVA:**\n",
        "\n",
        "Independence: The samples for each category (weather and season) are assumed to be independent.\n",
        "\n",
        "Normality: The data for each category should approximately follow a normal distribution.\n",
        "\n",
        "Homogeneity of Variance: The variance of the number of cycles rented should be approximately equal across different categories (weather and season)."
      ],
      "metadata": {
        "id": "SliJH666LwLK"
      }
    },
    {
      "cell_type": "code",
      "source": [
        "# Check Normality for each season\n",
        "for season in df['season'].unique():\n",
        "    data = df[df['season'] == season]['count']\n",
        "    if len(data) >= 3:\n",
        "        _, p_value = shapiro(data)\n",
        "        print(f\"\\nShapiro-Wilk Normality Test - Season {season}:\")\n",
        "        print(\"P-Value:\", p_value)\n",
        "    else:\n",
        "        print(f\"\\nInsufficient data points for Season {season}. Skipping Shapiro-Wilk test.\")\n",
        "\n",
        "    # Visualization - Histogram for each season\n",
        "    plt.figure()\n",
        "    sns.histplot(data, kde=True)\n",
        "    plt.title(f'Histogram - Season {season}')\n",
        "    plt.xlabel('Number of Electric Cycles Rented')\n",
        "    plt.show()"
      ],
      "metadata": {
        "id": "-2rNRizqAOqu"
      },
      "execution_count": null,
      "outputs": []
    },
    {
      "cell_type": "markdown",
      "source": [
        "**Conclusion of Shapiro-Wilk Normality test:**\n",
        "\n",
        "Null Hypothesis (Ho)=the sample comes from a normal distribution\n",
        "\n",
        "Alternate hypothesis(Ha)=the sample does not comes from a normal distribution\n",
        "\n",
        "Since p-values from the Shapiro-Wilk test << α (α = 0.05) for weather, we reject the null hypothesis and conclude\n",
        "\n",
        "**These sample does not comes from normal dristribution**"
      ],
      "metadata": {
        "id": "DqTM4cdTL7r4"
      }
    },
    {
      "cell_type": "code",
      "source": [
        "# Check Equal Variance using Levene's test for Season\n",
        "season_data = [df[df['season'] == season]['count'] for season in df['season'].unique()]\n",
        "_, p_value_season = levene(*season_data)\n",
        "\n",
        "print(\"\\nLevene's Test Result - Season:\")\n",
        "print(\"P-Value:\", p_value_season)"
      ],
      "metadata": {
        "id": "Ok3Y-ymvMUEp"
      },
      "execution_count": null,
      "outputs": []
    },
    {
      "cell_type": "markdown",
      "source": [
        "**Conclution of Levene's test of Variance:**\n",
        "\n",
        "Null Hypothesis(H0) - Homogenous Variance\n",
        "\n",
        "Alternate Hypothesis(HA) - Non Homogenous variance\n",
        "\n",
        "Since P value (1.01e-118) < 0.05, Signoficance level\n",
        "We reject Null hypothesis."
      ],
      "metadata": {
        "id": "sN-58IZWMVSU"
      }
    },
    {
      "cell_type": "code",
      "source": [
        "#Anova for Season\n",
        "from scipy.stats import f_oneway\n",
        "import scipy.stats as stats\n",
        "\n",
        "season1 = df[df['season']==1]['count']\n",
        "season2 = df[df['season']==2]['count']\n",
        "season3 = df[df['season']==3]['count']\n",
        "season4 = df[df['season']==4]['count']\n",
        "\n",
        "stat,p = stats.f_oneway(season1, season2, season3, season4)\n",
        "print('P-value :',p)"
      ],
      "metadata": {
        "id": "SZIJholsMg6u"
      },
      "execution_count": null,
      "outputs": []
    },
    {
      "cell_type": "markdown",
      "source": [
        "**Conclusion of Anova for Season:**\n",
        "\n",
        "Null Hypothesis (H0): The mean number of electric cycles rented is the same across different seasons.\n",
        "\n",
        "H0: μ_season1 = μ_season2 = μ_season3 = μ_season4\n",
        "\n",
        "Alternative Hypothesis (Ha): The mean number of electric cycles rented is different for at least one pair of seasons.\n",
        "\n",
        "Ha: At least one of the season means is different from the others.\n",
        "\n",
        "Since the P Value(6.16e-149) << Significance level = 0.05,\n",
        "\n",
        "**We reject the Null Hypothesis**\n",
        "\n",
        "**We reject null hypothesis, which means the number of electric cycles rented on different seasons are different**"
      ],
      "metadata": {
        "id": "57JmLaQGR3Z_"
      }
    },
    {
      "cell_type": "markdown",
      "source": [
        "##Chi-Square"
      ],
      "metadata": {
        "id": "raTBnNEUTESo"
      }
    },
    {
      "cell_type": "markdown",
      "source": [
        "**Hypothesis Formulation**\n",
        "\n",
        "Null Hypothesis (H0): The weather condition is independent of the season.\n",
        "\n",
        "H0: Weather and Season are independent.\n",
        "\n",
        "Alternative Hypothesis (Ha): The weather condition is dependent on the season.\n",
        "\n",
        "Ha: Weather and Season are not independent."
      ],
      "metadata": {
        "id": "3HZL8I07TicL"
      }
    },
    {
      "cell_type": "markdown",
      "source": [
        "#### Validating Test assumptions"
      ],
      "metadata": {
        "id": "EPkPKWRSUU3a"
      }
    },
    {
      "cell_type": "markdown",
      "source": [
        "**Assumptions of Chi square Test**\n",
        "\n",
        "1) The data in the cells should be frequencies, or counts of cases rather than percentages or some other transformation of the data.\n",
        "\n",
        "2) The levels (or categories) of the variables are mutually exclusive.\n",
        "\n",
        "3) The study groups must be independent. This means that a different test must be used if the two groups are related.\n",
        "\n",
        "4) The value of the cell expecteds should be 5 or more in at least 80% of the cells, and no cell should have an expected of less than one."
      ],
      "metadata": {
        "id": "4vN8s6n_UPX3"
      }
    },
    {
      "cell_type": "code",
      "source": [
        "from scipy.stats.contingency import chi2_contingency\n",
        "plt.figure(figsize=(18, 5))\n",
        "contingency_table = pd.crosstab(df['season'], df['weather'])\n",
        "values = np.array([contingency_table.iloc[0][:4], contingency_table.iloc[1][:4], contingency_table.iloc[2][:4]])\n",
        "sns.heatmap(contingency_table, annot=True, fmt='.6g')\n",
        "plt.show()"
      ],
      "metadata": {
        "id": "E-bB1bruV-9V"
      },
      "execution_count": null,
      "outputs": []
    },
    {
      "cell_type": "code",
      "source": [
        "chi2_stat, p_value, dof, expected_values = chi2_contingency(values)\n",
        "print(f\"Chi2-test statistic is {chi2_stat} and p_value is {p_value}\")"
      ],
      "metadata": {
        "id": "upaDWY3qWbsj"
      },
      "execution_count": null,
      "outputs": []
    },
    {
      "cell_type": "markdown",
      "source": [
        "**Conclusion of Chisquare Test:**\n",
        "\n",
        "Null Hypothesis (H0): The weather condition is independent of the season.\n",
        "\n",
        "H0: Weather and Season are independent.\n",
        "\n",
        "Alternative Hypothesis (Ha): The weather condition is dependent on the season.\n",
        "\n",
        "Ha: Weather and Season are not independent.\n",
        "\n",
        "Since P Value (0.0007) < 0.05, 95% significance level we will reject Null hypothesis and conclude:\n",
        "\n",
        " **the season has impact on the weather or they are dependent.**"
      ],
      "metadata": {
        "id": "V4p20vspW89u"
      }
    },
    {
      "cell_type": "markdown",
      "source": [
        "#Insights\n"
      ],
      "metadata": {
        "id": "pfnwI--KKjqE"
      }
    },
    {
      "cell_type": "markdown",
      "source": [
        "### from value counts\n",
        "* Datetime: Count of cycle rented and weather conditions data of approx 10.8K hours spread over a span of 2 years recorded.\n",
        "* Season: We have 4 seasons, equally distributed.\n",
        "workingday: 68% of these hours have been recorded from working days and 31% from non working days.\n",
        "* weather: weather -1 which is-> Clear, Few clouds, partly cloudy, partly cloudy is the most frequently occuring weather, followed by weather -2. out of these 10.8K hours, only 1 hour recorded a weather of category 4.\n",
        "* Temp: The mean temperature is 20.23 degrees, maximum temp climbing upto 41 degrees and minimum being 0.82 degrees.\n",
        "* Atemp: The mean temperature felt is 23.65 degrees, maximum temp climbing upto 45 degrees and minimum being 0.7 degrees.\n",
        "* Humidity: The mean humidity is 61 g/m^3, maximum humidity climbing upto 100 g/m^3 and minimum being 0 g/m^3.\n",
        "* Windspeed: The 25 percentile to 75 percentile windspeed is between 7km/hr and 17km/hr.\n",
        "* Casual: average count of casual users on a hourly basis is 36 users. maximum casual users recorded in an hour is 367 and minimum is 0.\n",
        "* Registered: average count of registered users on an hourly basis is 155 users. maximum registered users in an hour is 886 and minimum is zero.\n",
        "* Count: average count of total rental bikes including both casual and registered on an hourly basis is 191."
      ],
      "metadata": {
        "id": "vk4HUEX8KpIl"
      }
    },
    {
      "cell_type": "markdown",
      "source": [
        "###from statistical analysis\n",
        "*  clear skies,Partly cloudy collects 66% of the data points, while mist or cloudy collects 26% of the data points.\n",
        "*  Very few data points are collected during light snow or light rain conditions; probably a lot of people don't use the service during heavy rain or thunder storms, which makes absolute sense.\n",
        "*  The average temperature was 20.23 degrees Celsius, with 20.5 happening 50% of the time.\n",
        "*  The maximum temperature is recorded at 41, and the minimum temperature is recorded at 0.82 degrees Celsius.\n",
        "*  The average wind speed was 12.8, with 12.998 happening 50% of the time.\n",
        "*  The maximum wind speed was 56.996, and the minimum wind speed was recorded at 0.\n",
        "*  The average humidity was 61.886%, with 62.8% of humidity happening 50% of the time.\n",
        "*  The maximum humidity was 100%, while the minimum humidity was 0%.\n",
        "*  The average number of casual users is 36.02, with 17 causal users being 50%.\n",
        "*  The maximum number of casual users is 367, and the minimum number of users is zero.\n",
        "*  The average number of registered users is 155.52, with 118 users 50% of the time.\n",
        "*  The maximum and minimum number of registered users are 886 and 0, respectively."
      ],
      "metadata": {
        "id": "MB3WqqUzbBoE"
      }
    },
    {
      "cell_type": "markdown",
      "source": [
        "###From Univariate and Bivariate analysis\n",
        "*  The maximum number of holidays can be seen during the fall and winter season.\n",
        "*  While spring has moderate number of holidays, the least number of holidays are in the summer season.\n",
        "*  The maximum number of working days happens in the summer, followed by the winter.\n",
        "*  The least number of working days happens in the fall.\n",
        "*  During spring, the average temperature is recorded as 12.53 degrees Celsius, the median temperature is 12.30, and the maximum and minimum temperatures are 29.52 and 0.82, respectively.\n",
        "*  In the summer season, the average temperature is recorded at 22.82 degrees Celsius, the median temperature is 22.96, and the maximum and minimum temperatures are 38.54 and 9.82, respectively.\n",
        "*  In the fall season, the average temperature is recorded at 15.58 degrees Celsius, the median temperature is 28.70, and the maximum and minimum temperatures are 41 and 15.58, respectively.\n",
        "*  In the winter season, the average temperature is recorded at 28.79 degrees Celsius, the median temperature is 28.70, and the maximum and minimum temperatures are 41 and 28.79, respectively.\n",
        "*  During spring, the average humidity is recorded at 56.29, the median humidity is 53, and the maximum and minimum are 100 and 0.0, respectively.\n",
        "*  In the summer season, the average humidity is recorded at 60.85, the median humidity is 61, and the maximum and minimum are 100 and 16.0, respectively.\n",
        "*  In the fall season, the average humidity is recorded at 66, the median humidity is 66, and the maximum and minimum are 100 and 17, respectively.\n",
        "*  In the winter season, the average humidity is recorded at 66.17, the median humidity is 66 and the maximum and minimum are 100 and 16, respectively.\n",
        "*  In the year 2011, the average number of total users was 144, with a huge standard deviation of 133, a median of 111, and a maximum and minimum count of 638 and 1, respectively.\n",
        "*  In the year 2012, the average number of total users was 238.56, with a huge standard deviation of 208, a median of 199, and a maximum and minimum count of 977 and 1, respectively.\n",
        "* In the year 2011, the average number of registered users was 115.45, with a huge standard deviation of 108, a median of 91, and a maximum and minimum registered count of 567 and 0, respectively.\n",
        "*  In the year 2012, the average number of total users was 195.31, with a huge standard deviation of 174.74, a median of 161, and a maximum and minimum registered count of 886 and 1, respectively.\n",
        "\n"
      ],
      "metadata": {
        "id": "So9NqcQJb_ql"
      }
    },
    {
      "cell_type": "markdown",
      "source": [
        "###from Hypothesis testing\n",
        "\n",
        "By performing a 2-sample T-test on working and non-working days with respect to count, we can infer that the population count means of both categories are the same.\n",
        "\n",
        "By performing an ANOVA test on different seasons with respect to count, we can infer that population count means under different seasons are not the same, meaning there is a difference in the usage of Yulu bikes in different seasons.\n",
        "\n",
        "By performing an ANOVA test on different weather conditions except 4 with respect to count, we can infer that population count means under different weather conditions are the same, meaning there is a difference in the usage of Yulu bikes in different weather conditions.\n",
        "\n",
        "By performing a Chi2 test on season and weather (categorical variables), we can infer that there is an impact on weather dependent on season.\n",
        "\n",
        "The median temperature is noted at 20.5 degrees Celsius, while 75% of the data has been recorded at 26.24 degrees Celsius. The average temperature is noted as 20.36 degrees Celsius.\n",
        "\n",
        "The Yulu has a median of 145 counted (casual + registered) users, with 75% of users totaling 284. The average number of counted users is 191.574. The maximum number of counted users is 977.\n",
        "\n",
        "68% of the data points are collected for the working day, which makes sense as a lot of people use public transportation on working days.\n",
        "\n",
        "Very few data points are collected during light snow or light rain conditions; probably a lot of people don't use the service during heavy rain or thunder storms, which makes absolute sense.\n",
        "\n",
        "The average temperature was 20.23 degrees Celsius, with 20.5 happening 50% of the time.\n",
        "\n",
        "10. The maximum number of holidays can be seen during the fall and winter seasons.\n",
        "\n",
        "11. In the year 2011, the average number of total users was 144, with a huge standard deviation of 133, a median of 111, and a maximum and minimum count of 638 and 1, respectively. In the year 2012, the average number of total users was 238.56, with a huge standard deviation of 208, a median of 199, and a maximum and minimum count of 977 and 1, respectively.\n",
        "\n",
        "In October, the average number of total users was 228, with a standard deviation of 204, a median of 180, and a maximum and minimum count of 948 and 1, respectively.\n",
        "\n",
        "There is a strong positive correlation between casual and count, and a very high correlation between registered and counted users.\n",
        "\n",
        "14. The median difference between a working day and a non-working day is only marginally significant.\n",
        "\n",
        "15. The total demand curve is increasing from clear skies to cloudy mist and is reduced in light snow or light rain."
      ],
      "metadata": {
        "id": "ob9_nADZYcgR"
      }
    }
  ]
}